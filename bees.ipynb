{
 "cells": [
  {
   "cell_type": "markdown",
   "metadata": {
    "colab_type": "text",
    "id": "IsvByQrd6S1C"
   },
   "source": [
    "# There is no plan bee without them 🐝\n",
    "\n",
    "## Abstract\n",
    "\n",
    "Pollinators around the world play a central role in our agriculture with an estimated economic benefit of €235bn per year. Up to 75% of our crops are dependent on pollination and honeybees account for most of it. Yet, in Europe and the USA the bee population has been declining at an alarming rate during the last decades. As by-hand pollination is not an alternative, it is impossible to imagine a world without them. [1]\n",
    "\n",
    "With this project, we first aim at giving insights about the state of bee health and honey produced and traded using the [FAO datasets](http://www.fao.org/faostat/en/#data). Secondly, we focus on the USA using results from [US Departement of Agriculture](https://quickstats.nass.usda.gov/) in order to identify and present the main factors of bee decline. Finally, we propose a case study about almonds in California to show the consequences of a lack of bees.\n",
    "\n",
    "[[1](http://sos-bees.org/wp-content/uploads/2014/04/BeesInDecline.pdf)] *Bees in Decline*, Greenpeace, 2013\n",
    "\n",
    "## Disclaimer\n",
    "\n",
    "There are a lot of different pollinator species in danger; however, we will only focus on commercial honey bees. All the data gathered about them obviously excludes wild populations since we deal with agricultural data. We found no surveys about wild populations."
   ]
  },
  {
   "cell_type": "code",
   "execution_count": null,
   "metadata": {},
   "outputs": [],
   "source": [
    "# Python imports\n",
    "import pandas as pd\n",
    "import numpy as np\n",
    "import matplotlib\n",
    "import matplotlib.pyplot as plt\n",
    "%matplotlib inline\n",
    "\n",
    "matplotlib.rc('font', **{'size': 12}) # Text more readable"
   ]
  },
  {
   "cell_type": "markdown",
   "metadata": {
    "colab_type": "text",
    "id": "pUdVdLjx89jP"
   },
   "source": [
    "## 1. How do the continents compare in terms of bee decline from 1961 to these days?"
   ]
  },
  {
   "cell_type": "markdown",
   "metadata": {},
   "source": [
    "Our first goal is to plot the evolution of the number of beehives per continent. For this purpose, we use the dataset from FAOSTAT listing the number of beehives per country from 1961."
   ]
  },
  {
   "cell_type": "code",
   "execution_count": null,
   "metadata": {
    "colab": {},
    "colab_type": "code",
    "id": "c3U8c4Uy8_r9"
   },
   "outputs": [],
   "source": [
    "beehives_raw = pd.read_csv('data/FAOSTAT_Live_Stock.csv')\n",
    "beehives_raw.head()"
   ]
  },
  {
   "cell_type": "markdown",
   "metadata": {},
   "source": [
    "Let's only select the columns that interest us, i.e. everything apart from the country, the year and the number of beehives."
   ]
  },
  {
   "cell_type": "code",
   "execution_count": null,
   "metadata": {},
   "outputs": [],
   "source": [
    "beehives_raw = beehives_raw[['Area', 'Year', 'Value']]\n",
    "beehives_raw.head()"
   ]
  },
  {
   "cell_type": "markdown",
   "metadata": {},
   "source": [
    "Then, let's import a small dataset that lists all the countries in the world to their respective continents. The csv file was [found here](https://github.com/lukes/ISO-3166-Countries-with-Regional-Codes/blob/master/all/all.csv) and saved in the folder `data` as `countries.csv`."
   ]
  },
  {
   "cell_type": "code",
   "execution_count": null,
   "metadata": {},
   "outputs": [],
   "source": [
    "countries = pd.read_csv('data/countries.csv')\n",
    "# We only want the name of the country and its continent\n",
    "countries = countries[['name', 'region']].set_index('name')\n",
    "print('Are the countries in the dataset unique? -> %s' % countries.index.is_unique)\n",
    "countries.head()"
   ]
  },
  {
   "cell_type": "markdown",
   "metadata": {},
   "source": [
    "The `countries` dataset does not have data from certain countries present in the FAOSTAT dataset. These countries have either ceased to exist (USSR, Yugoslavia, ...), or were defined differently (China, mainland, ...). Let's add them manually."
   ]
  },
  {
   "cell_type": "code",
   "execution_count": null,
   "metadata": {},
   "outputs": [],
   "source": [
    "countries.loc['Belgium-Luxembourg'] = 'Europe'\n",
    "countries.loc['China, mainland'] = 'Asia'\n",
    "countries.loc['China, Taiwan Province of'] = 'Asia'\n",
    "countries.loc['Czechoslovakia'] = 'Europe'\n",
    "countries.loc['Ethiopia PDR'] = 'Africa'\n",
    "countries.loc['Palestine'] = 'Asia'\n",
    "countries.loc['Republic of Korea'] = 'Asia'\n",
    "countries.loc['Republic of Moldova'] = 'Europe'\n",
    "countries.loc['Serbia and Montenegro'] = 'Europe'\n",
    "countries.loc['Sudan (former)'] = 'Africa'\n",
    "countries.loc['United Kingdom'] = 'Europe'\n",
    "countries.loc['United Republic of Tanzania'] = 'Africa'\n",
    "countries.loc['USSR'] = 'Europe'\n",
    "countries.loc['Wallis and Futuna Islands'] = 'Oceania'\n",
    "countries.loc['Yugoslav SFR'] = 'Europe'\n",
    "\n",
    "countries['region'].value_counts()"
   ]
  },
  {
   "cell_type": "markdown",
   "metadata": {},
   "source": [
    "We indeed verify that all 5 continents are present.\n",
    "\n",
    "Then, we add the continent as a column in our beehive dataset."
   ]
  },
  {
   "cell_type": "code",
   "execution_count": null,
   "metadata": {},
   "outputs": [],
   "source": [
    "beehives_raw['Continent'] = beehives_raw.apply(lambda row: countries.loc[row['Area']], axis=1)\n",
    "beehives_raw.head()"
   ]
  },
  {
   "cell_type": "markdown",
   "metadata": {},
   "source": [
    "We can now aggregate the values together for each continent."
   ]
  },
  {
   "cell_type": "code",
   "execution_count": null,
   "metadata": {},
   "outputs": [],
   "source": [
    "beehives = beehives_raw.drop('Area', 1)\n",
    "beehives = beehives.pivot_table(index=['Year'], columns=['Continent'], aggfunc=np.sum)\n",
    "beehives.columns.names = ['Number of beehives', 'Continent']\n",
    "beehives.head()"
   ]
  },
  {
   "cell_type": "markdown",
   "metadata": {},
   "source": [
    "Let's plot the absolute values to see what is exactly going on."
   ]
  },
  {
   "cell_type": "code",
   "execution_count": null,
   "metadata": {},
   "outputs": [],
   "source": [
    "def plot_beehives(df, height=6):\n",
    "    ax = df.plot(kind='line', figsize=(15,height), grid=True)\n",
    "    ax.set_ylabel('Number of beehives')\n",
    "    return ax\n",
    "    \n",
    "ax = plot_beehives(beehives, height=10)\n",
    "ax.set_title('Number of beehives by year per continent');"
   ]
  },
  {
   "cell_type": "markdown",
   "metadata": {},
   "source": [
    "We can observe the following:\n",
    "\n",
    "- Asia sees the biggest growth on Earth, surpassing Europe in the 80s, and always growing.\n",
    "- Europe saw a sharp decline in the beginning of the 90s. It recovers slowly since the 2010s. It still has not reached its former levels of the 80s.\n",
    "- Afica does not see any real change since the beggining of the 2000s\n",
    "- Americas seem to not really evolve in numbers since the beginning.\n",
    "- It's difficult to tell for Oceania, because its production is really low compared to the rest of the world.\n",
    "\n",
    "Based on this preliminary analysis, we will focus the rest of our analysis on Europe, Asia and Americas.\n",
    "\n",
    "That's all well and good, but an interesting statistic would be to see the derivate of these values. Let's modify our pivot table."
   ]
  },
  {
   "cell_type": "code",
   "execution_count": null,
   "metadata": {},
   "outputs": [],
   "source": [
    "beehives_derivative = beehives.diff() / beehives\n",
    "# This obviously creates a NaN value for the first year, let's replace it by 0\n",
    "beehives_derivative = beehives_derivative.fillna(0)"
   ]
  },
  {
   "cell_type": "markdown",
   "metadata": {},
   "source": [
    "### Europe"
   ]
  },
  {
   "cell_type": "markdown",
   "metadata": {},
   "source": [
    "Now, let's compute the values for Europe."
   ]
  },
  {
   "cell_type": "code",
   "execution_count": null,
   "metadata": {},
   "outputs": [],
   "source": [
    "beehives_evol_eur = beehives_derivative[('Value','Europe')]\n",
    "print('The mean change for the period 1961-2017 is %.2f%%.' % (beehives_evol_eur.mean()*100))\n",
    "print('The standard deviation for the period 1961-2017 is %.2f%%' % (beehives_evol_eur.std()*100))\n",
    "\n",
    "ax = plot_beehives(beehives_evol_eur*100)\n",
    "ax.axhline(y=0.0, color='red', linestyle='--', label='No evolution')\n",
    "ax.set_title('Evolution in the number of beehives in Europe per year')\n",
    "ax.set_ylabel('Evolution of beehives in %')\n",
    "plt.legend()\n",
    "plt.figure(figsize=(15,6));"
   ]
  },
  {
   "cell_type": "code",
   "execution_count": null,
   "metadata": {},
   "outputs": [],
   "source": [
    "decrease = abs(beehives_evol_eur.min()*100)\n",
    "msg = 'Europe saw their worst year in total beehives numbers in %d, where it lost %.1f%% of their count.'\n",
    "print(msg % (beehives_evol_eur.idxmin(), decrease))"
   ]
  },
  {
   "cell_type": "markdown",
   "metadata": {},
   "source": [
    "Let's note that the mean gain is negative, meaning that Europe saw more losses on a year-to-year basis than gains. Since the standard deviation is quite big, we can however not conclude anything. However, we have seen that the numbers have overall dropped since the 80s, and never recovered.\n",
    "\n",
    "We can see a very sharp and significant decline in 1992 (-22.1%). Let's investigate on where it came from, by looking at the individual countries in Europe."
   ]
  },
  {
   "cell_type": "code",
   "execution_count": null,
   "metadata": {},
   "outputs": [],
   "source": [
    "def build_continent(continent):\n",
    "    continent = beehives_raw[beehives_raw['Continent'] == continent]\n",
    "    continent = continent.pivot_table(index=['Year'], columns=['Area'], aggfunc=np.sum)\n",
    "    continent.columns.names = ['Number of beehives', 'Country']\n",
    "    return continent\n",
    "    \n",
    "\n",
    "beehives_eur = build_continent('Europe')\n",
    "\n",
    "beehives_eur_gains = beehives_eur.diff()\n",
    "beehives_eur_gains = beehives_eur_gains.fillna(0)\n",
    "\n",
    "beehives_eur_1992 = beehives_eur_gains.loc[1992]\n",
    "beehives_eur_1992[beehives_eur_1992 < 0.0].sort_values()"
   ]
  },
  {
   "cell_type": "markdown",
   "metadata": {},
   "source": [
    "We see that there are 6 countries that lost beehives in 1992. Let's investigate them individually."
   ]
  },
  {
   "cell_type": "code",
   "execution_count": null,
   "metadata": {},
   "outputs": [],
   "source": [
    "def plot_country(country, top=2e6):\n",
    "    ax = plot_beehives(beehives_raw[beehives_raw['Area'] == country].set_index('Year'))\n",
    "    ax.set_title('Number of beehives in %s' % country)\n",
    "    ax.set_ylim(bottom=0, top=top)\n",
    "    \n",
    "plot_country('Bulgaria')"
   ]
  },
  {
   "cell_type": "markdown",
   "metadata": {},
   "source": [
    "We see that the number of beehives in Bulgaria dropped significantly during the first years of the 90s, and rose again in the mid 00s. It is currently at its highest levels, observed during the 70s. This is certainly due to the fall of the USSR and the Warsaw Pact, which dramatically changed the economic incentives for the Bulgarian population and bee keepers. So this is a legitimate loss for this year."
   ]
  },
  {
   "cell_type": "code",
   "execution_count": null,
   "metadata": {},
   "outputs": [],
   "source": [
    "plot_country('Czechoslovakia')"
   ]
  },
  {
   "cell_type": "markdown",
   "metadata": {},
   "source": [
    "The reason we have no data after 1992 is that the country was split and became Czechia and Slovakia. Let's build the graph as if the country never split."
   ]
  },
  {
   "cell_type": "code",
   "execution_count": null,
   "metadata": {},
   "outputs": [],
   "source": [
    "def extract_value(country, year):\n",
    "    return beehives_raw[beehives_raw['Area'] == country].set_index('Year').loc[year].values[1]\n",
    "\n",
    "beehives_cshh = beehives_raw[beehives_raw['Area'].isin(['Czechia', 'Slovakia'])]\n",
    "beehives_cshh = beehives_cshh.pivot_table(index=['Year'], columns=['Area'], aggfunc=np.sum)\n",
    "beehives_cshh.columns.names = ['Number of beehives', 'Country']\n",
    "beehives_cshh[('Value', 'Czechoslovakia')] = beehives_cshh[('Value', 'Czechia')] + beehives_cshh[('Value', 'Slovakia')]\n",
    "beehives_cshh = beehives_raw[beehives_raw['Area'] == 'Czechoslovakia'].set_index('Year')['Value'].append(beehives_cshh[('Value', 'Czechoslovakia')])\n",
    "ax = beehives_cshh.plot(kind='line',figsize=(15,6),grid=True)\n",
    "ax.set_ylabel('Number of beehives')\n",
    "ax.set_ylim(bottom=0, top=2e6);"
   ]
  },
  {
   "cell_type": "markdown",
   "metadata": {},
   "source": [
    "With this now complete statistic for \"Czechoslovakia\", we see a gloally very similar outcome than what Bulgaria experienced. But the country (-ies) did not manage to come back to their levels of before the fall of communism in Europe, even though the drop was far less impressive than for Bulgaria.\n",
    "\n",
    "Let's analyse the next in the list, namely Germany."
   ]
  },
  {
   "cell_type": "code",
   "execution_count": null,
   "metadata": {},
   "outputs": [],
   "source": [
    "plot_country('Germany')"
   ]
  },
  {
   "cell_type": "markdown",
   "metadata": {},
   "source": [
    "We also see a significant drop from the beginning of the 90s. Contrary to other countries previously encountered, Germany never came close to its glorious past days. We see an almost continuous decline since the end of the 80s, finally stablizing in the mid 00s. We can only suppose that bee keeping was a big factor in Eastern Germany, and since the reunification, it isn't seen as lucrative in this region Bee keepers must have simply shifted focus.\n",
    "\n",
    "We also note that Germany was a very big \"producer\" of beehives in 1961, when the statistics began. This is not the case now. The numbers fell from 2 millions to ca. 700'000 (-65%).\n",
    "\n",
    "Now, let's see Albania."
   ]
  },
  {
   "cell_type": "code",
   "execution_count": null,
   "metadata": {},
   "outputs": [],
   "source": [
    "plot_country('Albania')"
   ]
  },
  {
   "cell_type": "markdown",
   "metadata": {},
   "source": [
    "The wars in the Balkans was probably the cause of this drop. However, after this, the number of beehives grew, whereas it was only stable before these terrible events. It now has much more beehives than during the cold war.\n",
    "\n",
    "Let's now see France."
   ]
  },
  {
   "cell_type": "code",
   "execution_count": null,
   "metadata": {},
   "outputs": [],
   "source": [
    "plot_country('France')"
   ]
  },
  {
   "cell_type": "markdown",
   "metadata": {},
   "source": [
    "It looks like no updated number of beehives were given in the 80s, so the latest value was simply reported for all these years. After the 80s, we see a continuous drop in their numbers, until today, which is one of the lowest recorded numbers for France.\n",
    "\n",
    "We can see some \"glitches\" in the 70s, probably due to counting - surveying - errors. It's unlikely the numbers would have changed so quickly."
   ]
  },
  {
   "cell_type": "code",
   "execution_count": null,
   "metadata": {},
   "outputs": [],
   "source": [
    "plot_country('Sweden')"
   ]
  },
  {
   "cell_type": "markdown",
   "metadata": {},
   "source": [
    "The last country on our list, Sweden, sees their number be very stable since the 90s.\n",
    "\n",
    "Now, let's analyze the recent gains observed in Europe."
   ]
  },
  {
   "cell_type": "code",
   "execution_count": null,
   "metadata": {},
   "outputs": [],
   "source": [
    "beehives_eur_2010s = beehives_eur_gains.loc[beehives_eur_gains.index >= 2010]\n",
    "beehives_gains_2010s = beehives_eur_2010s.max().sort_values(ascending=False)\n",
    "beehives_gains_2010s = beehives_gains_2010s[beehives_gains_2010s > 2e5]\n",
    "beehives_gains_2010s"
   ]
  },
  {
   "cell_type": "markdown",
   "metadata": {},
   "source": [
    "We note that a few countries have known some exceptional years of growth. Let's analyze Serbia, Romania and Russia."
   ]
  },
  {
   "cell_type": "code",
   "execution_count": null,
   "metadata": {},
   "outputs": [],
   "source": [
    "plot_country('Serbia')"
   ]
  },
  {
   "cell_type": "markdown",
   "metadata": {},
   "source": [
    "Again, Serbia is a fairly new country, since before it was Serbia and Montenegro, and even before Yugoslavia. But this suffices to see that the grwoth observed in the 2010s is very impressive indeed, from ca. 250'000 to 800'000."
   ]
  },
  {
   "cell_type": "code",
   "execution_count": null,
   "metadata": {},
   "outputs": [],
   "source": [
    "plot_country('Romania')"
   ]
  },
  {
   "cell_type": "markdown",
   "metadata": {},
   "source": [
    "Here, we have almost a carbon copy of the behavior observed in Bulgaria. Romania just regained the levels at which they were before the fall of the Eastern Bloc."
   ]
  },
  {
   "cell_type": "code",
   "execution_count": null,
   "metadata": {},
   "outputs": [],
   "source": [
    "ax = plot_country('Russian Federation', top=5e6)"
   ]
  },
  {
   "cell_type": "markdown",
   "metadata": {},
   "source": [
    "We see that Russia has an enormous number of beehives. There is a significant drop since the fall of the USSR, which seems nowadays more or less stabilized.\n",
    "\n",
    "Let's finally see which European countries have the most beehives."
   ]
  },
  {
   "cell_type": "code",
   "execution_count": null,
   "metadata": {},
   "outputs": [],
   "source": [
    "beehives_eur[beehives_eur.index == 2017].iloc[0].sort_values(ascending=False).head(10)"
   ]
  },
  {
   "cell_type": "markdown",
   "metadata": {},
   "source": [
    "As we observed just before, Russia has the biggest number of behives, followed closely by Spain. Then, we have a group composed of Poland, Greece and Romania. We have then analyzed the rest of the countries.\n",
    "\n",
    "We can conclude this portion of the analysis that the significant drop observed in Europe in the beginning of the 90s was certainly due to the fall of the USSR and the whole Eastern Bloc, and all the economic turmoil it caused."
   ]
  },
  {
   "cell_type": "markdown",
   "metadata": {},
   "source": [
    "### Asia"
   ]
  },
  {
   "cell_type": "markdown",
   "metadata": {},
   "source": [
    "Firstly, let's see the biggest players in Asia."
   ]
  },
  {
   "cell_type": "code",
   "execution_count": null,
   "metadata": {},
   "outputs": [],
   "source": [
    "beehives_asia = build_continent('Asia')\n",
    "beehives_asia[beehives_asia.index == 2017].iloc[0].sort_values(ascending=False).head(10)"
   ]
  },
  {
   "cell_type": "markdown",
   "metadata": {},
   "source": [
    "We see several outliers: India, China (which is both \"China, mainland\" and \"China, Taiwan Province of\"), Turkey and Iran. Let's see their respective evolutions."
   ]
  },
  {
   "cell_type": "code",
   "execution_count": null,
   "metadata": {},
   "outputs": [],
   "source": [
    "plot_country('India', top=2e7)"
   ]
  },
  {
   "cell_type": "code",
   "execution_count": null,
   "metadata": {},
   "outputs": [],
   "source": [
    "plot_country('China', top=2e7)"
   ]
  },
  {
   "cell_type": "code",
   "execution_count": null,
   "metadata": {},
   "outputs": [],
   "source": [
    "plot_country('Turkey', top=2e7)"
   ]
  },
  {
   "cell_type": "code",
   "execution_count": null,
   "metadata": {},
   "outputs": [],
   "source": [
    "plot_country('Iran (Islamic Republic of)', top=2e7)"
   ]
  },
  {
   "cell_type": "markdown",
   "metadata": {},
   "source": [
    "The beehive growth in these countries is mainly due to their economic growth, even if we are not sure why Turkey gained such an interest in beehives in the recent years. The global Asian growth can be reduced to the growth of these countries, since their numbers are far beyond any other country in Asia."
   ]
  },
  {
   "cell_type": "markdown",
   "metadata": {},
   "source": [
    "### Americas\n",
    "\n",
    "Since the beehive numbers are stable in America, let's plot the biggest producers' history."
   ]
  },
  {
   "cell_type": "code",
   "execution_count": null,
   "metadata": {},
   "outputs": [],
   "source": [
    "beehives_am = build_continent('Americas')\n",
    "beehives_am[beehives_am.index == 2017].iloc[0].sort_values(ascending=False).head()"
   ]
  },
  {
   "cell_type": "code",
   "execution_count": null,
   "metadata": {},
   "outputs": [],
   "source": [
    "plot_country('Argentina', top=6e6)"
   ]
  },
  {
   "cell_type": "code",
   "execution_count": null,
   "metadata": {},
   "outputs": [],
   "source": [
    "plot_country('United States of America', top=6e6)"
   ]
  },
  {
   "cell_type": "code",
   "execution_count": null,
   "metadata": {},
   "outputs": [],
   "source": [
    "plot_country('Mexico', top=6e6)"
   ]
  },
  {
   "cell_type": "code",
   "execution_count": null,
   "metadata": {},
   "outputs": [],
   "source": [
    "plot_country('Brazil', top=6e6)"
   ]
  },
  {
   "cell_type": "markdown",
   "metadata": {},
   "source": [
    "We see 4 very different behaviors:\n",
    "    \n",
    "- Argentina has the most beehives in the Americas. Their numbers grew at first very quickly, but are stable since ca. 2000. We will come back to this in part 3.\n",
    "- The US are second, but had way more beehives in the 60s. Their numbers fell until the mid 90s (they more than halved in this time period!), then stabilized.\n",
    "- Mexico is overall stable for the period (1961-2017)\n",
    "- Brazil saw a very big increase in the number of beehives in the 80s, and then stablized their numbers.\n",
    "\n",
    "In conclusion, we mostly explained the big shifts in numbers of beehives using socio-economic arguments. However, we cannot say that some of these changes were not due to pests. This will be the main focus of the latter points (4-5)."
   ]
  },
  {
   "cell_type": "markdown",
   "metadata": {
    "colab_type": "text",
    "id": "GekSAwOv9BPj"
   },
   "source": [
    "## 2. How do changes in honey production relate to number of beehives in Europe and the USA?\n",
    "\n",
    "Let's apply the same process to the honey production data than to the number of beehives, but here for both Europe and the US."
   ]
  },
  {
   "cell_type": "code",
   "execution_count": null,
   "metadata": {},
   "outputs": [],
   "source": [
    "honey_raw = pd.read_csv('data/FAOSTAT_Livestock_Primary.csv')\n",
    "honey_raw = honey_raw[['Area', 'Year', 'Value']]\n",
    "honey_raw['Continent'] = honey_raw.apply(lambda row: countries.loc[row['Area']], axis=1)\n",
    "honey_raw.head()"
   ]
  },
  {
   "cell_type": "code",
   "execution_count": null,
   "metadata": {},
   "outputs": [],
   "source": [
    "honey_eur = honey_raw[honey_raw['Continent'] == 'Europe'].drop('Area', 1)\n",
    "honey_eur = honey_eur.pivot_table(index=['Year'], columns=['Continent'], aggfunc=np.sum)\n",
    "honey_eur.columns.names = ['Honey production in tonnes', 'Continent']"
   ]
  },
  {
   "cell_type": "markdown",
   "metadata": {},
   "source": [
    "Let's check if we have the same countries as for the number of beehives."
   ]
  },
  {
   "cell_type": "code",
   "execution_count": null,
   "metadata": {},
   "outputs": [],
   "source": [
    "honey_countries_eur = honey_raw[honey_raw['Continent'] == 'Europe']['Area'].value_counts().keys()\n",
    "beehives_countries_eur = beehives_raw[beehives_raw['Continent'] == 'Europe']['Area'].value_counts().keys()\n",
    "print(set(honey_countries_eur).symmetric_difference(set(beehives_countries_eur)))\n",
    "print(set(honey_countries_eur) - set(beehives_countries_eur))"
   ]
  },
  {
   "cell_type": "markdown",
   "metadata": {},
   "source": [
    "We see that we do not have any beehive numbers for Denmark, Ireland and Norway. Let's see what percentage of the European honey production they make up in 2017."
   ]
  },
  {
   "cell_type": "code",
   "execution_count": null,
   "metadata": {},
   "outputs": [],
   "source": [
    "honey_prod_eur = honey_eur.loc[2017]['Value']['Europe']\n",
    "honey_prod_2017 = honey_raw[honey_raw['Year'] == 2017]\n",
    "honey_prod_den = honey_prod_2017[honey_prod_2017['Area'] == 'Denmark']['Value'].values[0]\n",
    "honey_prod_eir = honey_prod_2017[honey_prod_2017['Area'] == 'Ireland']['Value'].values[0]\n",
    "honey_prod_nor = honey_prod_2017[honey_prod_2017['Area'] == 'Norway']['Value'].values[0]\n",
    "proportion = (honey_prod_den + honey_prod_eir + honey_prod_nor) / honey_prod_eur\n",
    "print('Denmark, Ireland and Norway make up %f%% of the European honey production.' % (proportion * 100))"
   ]
  },
  {
   "cell_type": "markdown",
   "metadata": {},
   "source": [
    "These 3 countries make up less than one thousandth of the total European honey production, so we can safely drop them from the dataset."
   ]
  },
  {
   "cell_type": "code",
   "execution_count": null,
   "metadata": {},
   "outputs": [],
   "source": [
    "# Redo statistics without Denmark, Ireland and Norway\n",
    "honey_eur = honey_raw[honey_raw['Continent'] == 'Europe']\n",
    "honey_eur = honey_eur[honey_eur['Area'].isin(beehives_countries_eur)].drop('Area', 1)\n",
    "honey_eur = honey_eur.pivot_table(index=['Year'], columns=['Continent'], aggfunc=np.sum)\n",
    "honey_eur.columns.names = ['Honey production in tonnes', 'Continent']\n",
    "\n",
    "ax = honey_eur.plot(kind='line',figsize=(15,6))\n",
    "ax.set_title('Honey production in tonnes in Europe');"
   ]
  },
  {
   "cell_type": "markdown",
   "metadata": {},
   "source": [
    "Here, we already see a major difference with respects to what we observed with the number of beehives. Honey production did not stop growing in the 90s, even though there was a big drop in the number of beehives.\n",
    "\n",
    "Let's plot the differences between each year for both honey and beehives."
   ]
  },
  {
   "cell_type": "code",
   "execution_count": null,
   "metadata": {},
   "outputs": [],
   "source": [
    "honey_derivative = honey_eur.diff() / honey_eur\n",
    "honey_derivative = honey_derivative.fillna(0)[('Value', 'Europe')]"
   ]
  },
  {
   "cell_type": "code",
   "execution_count": null,
   "metadata": {},
   "outputs": [],
   "source": [
    "ax = beehives_evol_eur.plot(kind='line', figsize=(15,10), label='Beehive evolution')\n",
    "honey_derivative.plot(ax=ax, label='Honey Evolution')\n",
    "\n",
    "ax.axhline(y=0.0, color='red', linestyle='--', label='No evolution')\n",
    "ax.set_title('Evolution in the number of beehives in Europe and honey production')\n",
    "plt.legend();"
   ]
  },
  {
   "cell_type": "code",
   "execution_count": null,
   "metadata": {},
   "outputs": [],
   "source": [
    "eur_diff = honey_derivative - beehives_evol_eur\n",
    "ax = eur_diff.plot(kind='line', figsize=(15,10), label='Difference')\n",
    "ax.axhline(y=0.0, color='red', linestyle='--', label='No evolution')\n",
    "ax.set_title('Difference between honey production rate and beehive numbers rate')\n",
    "plt.legend();\n",
    "print('The mean of the change per year is %.2f%%.' % (eur_diff.mean()*100))\n",
    "print('The standard deviation of the change per year is %.2f%%.' % (eur_diff.std()*100))"
   ]
  },
  {
   "cell_type": "markdown",
   "metadata": {},
   "source": [
    "On this last series of graphs, we can see that the rate of honey production is very often superior to the one of the number of beehives, even though we cannot conclude anythin using the mean and standard deviation. This can mean that producers are more efficient with lesser numbers of beehives. We will later compute the correlation between these evolution, this is to simply grasp an intuitive understanding of the data.\n",
    "\n",
    "Let's do the same thing with the US."
   ]
  },
  {
   "cell_type": "code",
   "execution_count": null,
   "metadata": {},
   "outputs": [],
   "source": [
    "honey_us = honey_raw[honey_raw['Area'] == 'United States of America'].drop('Continent', 1)\n",
    "honey_us = honey_us.pivot_table(index=['Year'], columns=['Area'], aggfunc=np.sum)\n",
    "honey_us.columns.names = ['Honey production in tonnes', 'USA']\n",
    "ax = honey_us.plot(kind='line',figsize=(15,6))\n",
    "plt.ylim(bottom=0)\n",
    "ax.set_title('Honey production in tonnes in the USA');"
   ]
  },
  {
   "cell_type": "markdown",
   "metadata": {},
   "source": [
    "Here, on the contrary, we rather confirm that the US have far fewer beehives by looking at the honey production."
   ]
  },
  {
   "cell_type": "code",
   "execution_count": null,
   "metadata": {},
   "outputs": [],
   "source": [
    "honey_us_derivative = honey_us.diff() / honey_us\n",
    "honey_us_derivative = honey_us_derivative.fillna(0)[('Value', 'United States of America')]"
   ]
  },
  {
   "cell_type": "code",
   "execution_count": null,
   "metadata": {},
   "outputs": [],
   "source": [
    "beehives_evol_us = beehives_raw.drop('Continent', 1)\n",
    "beehives_evol_us = beehives_evol_us[beehives_evol_us['Area'] == 'United States of America']\n",
    "beehives_evol_us = beehives_evol_us.pivot_table(index=['Year'], columns=['Area'], aggfunc=np.sum)\n",
    "beehives_evol_us.columns.names = ['Number of beehives', 'Country']\n",
    "\n",
    "beehives_evol_us = beehives_evol_us.diff() / beehives_evol_us\n",
    "beehives_evol_us = beehives_evol_us.fillna(0)[('Value', 'United States of America')]"
   ]
  },
  {
   "cell_type": "code",
   "execution_count": null,
   "metadata": {},
   "outputs": [],
   "source": [
    "ax = beehives_evol_us.plot(kind='line', figsize=(15,10), label='Beehive evolution')\n",
    "honey_us_derivative.plot(ax=ax, label='Honey Evolution')\n",
    "\n",
    "ax.axhline(y=0.0, color='red', linestyle='--', label='No evolution')\n",
    "ax.set_title('Evolution in the number of beehives in the USA and honey production')\n",
    "plt.legend();"
   ]
  },
  {
   "cell_type": "code",
   "execution_count": null,
   "metadata": {},
   "outputs": [],
   "source": [
    "us_diff = honey_us_derivative - beehives_evol_us\n",
    "ax = us_diff.plot(kind='line', figsize=(15,10), label='Difference')\n",
    "ax.axhline(y=0.0, color='red', linestyle='--', label='No evolution')\n",
    "ax.set_title('Difference between honey production rate and beehive numbers rate')\n",
    "plt.legend();\n",
    "print('The mean of the change per year is %.2f%%.' % (us_diff.mean()*100))\n",
    "print('The standard deviation of the change per year is %.2f%%.' % (us_diff.std()*100))"
   ]
  },
  {
   "cell_type": "markdown",
   "metadata": {},
   "source": [
    "Here, contrary to Europe, we even see an overall mean that is negative, meaning that honey production drops (on a year-by-year basis) more than the number of beehives, or that it grows less.\n",
    "\n",
    "However, we again have a high standard deviation (due to the small number of years we have to work on). So, let's compute the correlation of the values to confirm our intuition."
   ]
  },
  {
   "cell_type": "code",
   "execution_count": null,
   "metadata": {},
   "outputs": [],
   "source": [
    "eu_corr = honey_eur[('Value', 'Europe')].to_frame().corrwith(beehives[('Value', 'Europe')])[('Value', 'Europe')]\n",
    "print('We observe a correlation of %.3f between honey production and number of beehives in Europe.' % eu_corr)"
   ]
  },
  {
   "cell_type": "code",
   "execution_count": null,
   "metadata": {},
   "outputs": [],
   "source": [
    "us_corr = honey_us[('Value', 'United States of America')].to_frame().corrwith(beehives_raw[beehives_raw['Area'] == 'United States of America'].set_index('Year')['Value'])[('Value', 'United States of America')]\n",
    "print('We observe a correlation of %.3f between honey production and number of beehives in the USA.' % us_corr)"
   ]
  },
  {
   "cell_type": "markdown",
   "metadata": {},
   "source": [
    "We see a significant negative correlation between the number of beehives and honey production in Europe, meaning that bee keepers are more and more efficient as time goes on.\n",
    "\n",
    "And, as seen with our previous graphs, we observe the opposite in the US, where both numbers seem to fall at the same time. We will explain this phenomenon in part 5."
   ]
  },
  {
   "cell_type": "markdown",
   "metadata": {
    "colab_type": "text",
    "id": "eaaPApCF9FJi"
   },
   "source": [
    "## 3. What are the consequences of bee decline on the patterns of honey import/export around the world?\n",
    "\n",
    "Eric"
   ]
  },
  {
   "cell_type": "code",
   "execution_count": null,
   "metadata": {
    "colab": {},
    "colab_type": "code",
    "id": "xTYUKhBu9HHq"
   },
   "outputs": [],
   "source": []
  },
  {
   "cell_type": "markdown",
   "metadata": {
    "colab_type": "text",
    "id": "DFSaV12D9IWQ"
   },
   "source": [
    "## 4. What is the relation between US cases of Colony Collapse Disorder and the main factors of CCD?\n",
    "\n",
    "Arthur"
   ]
  },
  {
   "cell_type": "code",
   "execution_count": null,
   "metadata": {
    "colab": {},
    "colab_type": "code",
    "id": "40fcXRKo9KYK"
   },
   "outputs": [],
   "source": []
  },
  {
   "cell_type": "markdown",
   "metadata": {
    "colab_type": "text",
    "id": "OFa-e2Zo9Lbj"
   },
   "source": [
    "## 5. California accounts for 80% of the world almond production, what is the impact of bees on this industry in the 21st century?\n",
    "\n",
    "Tim & Arthur"
   ]
  },
  {
   "cell_type": "code",
   "execution_count": null,
   "metadata": {
    "colab": {},
    "colab_type": "code",
    "id": "qoIGJGhl9M_Y"
   },
   "outputs": [],
   "source": []
  },
  {
   "cell_type": "markdown",
   "metadata": {},
   "source": [
    "# Plan\n",
    "\n",
    "## Week of 02.12.2019\n",
    "\n",
    "- Find a way to tie all of our analysis and abstract together in a coherent story arc\n",
    "- Lear how to use [Beautiful Jekyll](https://deanattali.com/beautiful-jekyll/) for our data story\n",
    "- Learn how to use Plotly\n",
    "- Prepare our *Github page*\n",
    "\n",
    "## Week of 09.12.2019\n",
    "\n",
    "- Implement convincing and insightful visualizations:\n",
    "    - Interactive scatter plot between number of beehives and honey production for selected countries moving through the years\n",
    "    - Heat map of the US with a toggle for the type of pest (Varroa, ...) and the desired quarter\n",
    "    - ...\n",
    "- Write a draft of our data story descriptions\n",
    "    \n",
    "## Week of 16.12.2019\n",
    "\n",
    "- Complete our data story with inspiring descriptions of our data analysis\n",
    "- Finalize Milestone 3\n",
    "\n",
    "## Weeks until 20.01.2020\n",
    "\n",
    "- Prepare the presentation\n",
    "- Team practive for the presentation\n",
    "- Print our poster"
   ]
  },
  {
   "cell_type": "markdown",
   "metadata": {},
   "source": [
    "# Questions to TAs\n",
    "\n",
    "- What should be the appropriate length for a data story? How much time should someone take to read it?"
   ]
  },
  {
   "cell_type": "markdown",
   "metadata": {},
   "source": [
    "# New visualizations for Milestone 3"
   ]
  },
  {
   "cell_type": "code",
   "execution_count": null,
   "metadata": {},
   "outputs": [],
   "source": [
    "# TODO"
   ]
  }
 ],
 "metadata": {
  "colab": {
   "collapsed_sections": [],
   "name": "bees.ipynb",
   "provenance": []
  },
  "kernelspec": {
   "display_name": "Python 3",
   "language": "python",
   "name": "python3"
  },
  "language_info": {
   "codemirror_mode": {
    "name": "ipython",
    "version": 3
   },
   "file_extension": ".py",
   "mimetype": "text/x-python",
   "name": "python",
   "nbconvert_exporter": "python",
   "pygments_lexer": "ipython3",
   "version": "3.7.5"
  }
 },
 "nbformat": 4,
 "nbformat_minor": 1
}
