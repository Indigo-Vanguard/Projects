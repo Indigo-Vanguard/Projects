{
 "cells": [
  {
   "cell_type": "markdown",
   "metadata": {
    "colab_type": "text",
    "id": "IsvByQrd6S1C"
   },
   "source": [
    "# There is no plan bee without them 🐝\n",
    "\n",
    "## Abstract\n",
    "Pollinators around the world play a central role in our agriculture with an estimated economic benefit of €235bn per year. Up to 75% of our crops are dependent on pollination and honeybees account for most of it. Yet, in Europe and the USA the bee population has been declining at an alarming rate during the last decades. As by-hand pollination is not an alternative, it is impossible to imagine a world without them. [1]\n",
    "\n",
    "With this project, we first aim at giving insights about the state of bee health and honey produced and traded using the [FAO datasets](http://www.fao.org/faostat/en/#data). Secondly, we focus on the USA using results from [US Departement of Agriculture](https://quickstats.nass.usda.gov/) in order to identify and present the main factors of bee decline. Finally, we propose a case study about almonds in California to show the consequences of a lack of bees.\n",
    "\n",
    "[[1](http://sos-bees.org/wp-content/uploads/2014/04/BeesInDecline.pdf)] *Bees in Decline*, Greenpeace, 2013\n",
    "\n"
   ]
  },
  {
   "cell_type": "code",
   "execution_count": 1,
   "metadata": {},
   "outputs": [],
   "source": [
    "import pandas as pd\n",
    "import numpy as np\n",
    "import matplotlib\n",
    "import matplotlib.pyplot as plt\n",
    "%matplotlib inline\n",
    "\n",
    "matplotlib.rc('font', **{'size': 12}) # Text more readable"
   ]
  },
  {
   "cell_type": "markdown",
   "metadata": {
    "colab_type": "text",
    "id": "pUdVdLjx89jP"
   },
   "source": [
    "## 1. How do the continents compare in terms of bee decline from 1961 to these days?"
   ]
  },
  {
   "cell_type": "markdown",
   "metadata": {},
   "source": [
    "Our first goal is to plot the evolution of the number of beehives per continent. For this purpose, we use the dataset from FAOSTAT, that lists the number of beehives per country from 1961."
   ]
  },
  {
   "cell_type": "code",
   "execution_count": 2,
   "metadata": {
    "colab": {},
    "colab_type": "code",
    "id": "c3U8c4Uy8_r9"
   },
   "outputs": [
    {
     "data": {
      "text/html": [
       "<div>\n",
       "<style scoped>\n",
       "    .dataframe tbody tr th:only-of-type {\n",
       "        vertical-align: middle;\n",
       "    }\n",
       "\n",
       "    .dataframe tbody tr th {\n",
       "        vertical-align: top;\n",
       "    }\n",
       "\n",
       "    .dataframe thead th {\n",
       "        text-align: right;\n",
       "    }\n",
       "</style>\n",
       "<table border=\"1\" class=\"dataframe\">\n",
       "  <thead>\n",
       "    <tr style=\"text-align: right;\">\n",
       "      <th></th>\n",
       "      <th>Domain Code</th>\n",
       "      <th>Domain</th>\n",
       "      <th>Area Code</th>\n",
       "      <th>Area</th>\n",
       "      <th>Element Code</th>\n",
       "      <th>Element</th>\n",
       "      <th>Item Code</th>\n",
       "      <th>Item</th>\n",
       "      <th>Year Code</th>\n",
       "      <th>Year</th>\n",
       "      <th>Unit</th>\n",
       "      <th>Value</th>\n",
       "      <th>Flag</th>\n",
       "      <th>Flag Description</th>\n",
       "    </tr>\n",
       "  </thead>\n",
       "  <tbody>\n",
       "    <tr>\n",
       "      <td>0</td>\n",
       "      <td>QA</td>\n",
       "      <td>Live Animals</td>\n",
       "      <td>3</td>\n",
       "      <td>Albania</td>\n",
       "      <td>5114</td>\n",
       "      <td>Stocks</td>\n",
       "      <td>1181</td>\n",
       "      <td>Beehives</td>\n",
       "      <td>1961</td>\n",
       "      <td>1961</td>\n",
       "      <td>No</td>\n",
       "      <td>95100.0</td>\n",
       "      <td>NaN</td>\n",
       "      <td>Official data</td>\n",
       "    </tr>\n",
       "    <tr>\n",
       "      <td>1</td>\n",
       "      <td>QA</td>\n",
       "      <td>Live Animals</td>\n",
       "      <td>3</td>\n",
       "      <td>Albania</td>\n",
       "      <td>5114</td>\n",
       "      <td>Stocks</td>\n",
       "      <td>1181</td>\n",
       "      <td>Beehives</td>\n",
       "      <td>1962</td>\n",
       "      <td>1962</td>\n",
       "      <td>No</td>\n",
       "      <td>92800.0</td>\n",
       "      <td>NaN</td>\n",
       "      <td>Official data</td>\n",
       "    </tr>\n",
       "    <tr>\n",
       "      <td>2</td>\n",
       "      <td>QA</td>\n",
       "      <td>Live Animals</td>\n",
       "      <td>3</td>\n",
       "      <td>Albania</td>\n",
       "      <td>5114</td>\n",
       "      <td>Stocks</td>\n",
       "      <td>1181</td>\n",
       "      <td>Beehives</td>\n",
       "      <td>1963</td>\n",
       "      <td>1963</td>\n",
       "      <td>No</td>\n",
       "      <td>83500.0</td>\n",
       "      <td>NaN</td>\n",
       "      <td>Official data</td>\n",
       "    </tr>\n",
       "    <tr>\n",
       "      <td>3</td>\n",
       "      <td>QA</td>\n",
       "      <td>Live Animals</td>\n",
       "      <td>3</td>\n",
       "      <td>Albania</td>\n",
       "      <td>5114</td>\n",
       "      <td>Stocks</td>\n",
       "      <td>1181</td>\n",
       "      <td>Beehives</td>\n",
       "      <td>1964</td>\n",
       "      <td>1964</td>\n",
       "      <td>No</td>\n",
       "      <td>96500.0</td>\n",
       "      <td>NaN</td>\n",
       "      <td>Official data</td>\n",
       "    </tr>\n",
       "    <tr>\n",
       "      <td>4</td>\n",
       "      <td>QA</td>\n",
       "      <td>Live Animals</td>\n",
       "      <td>3</td>\n",
       "      <td>Albania</td>\n",
       "      <td>5114</td>\n",
       "      <td>Stocks</td>\n",
       "      <td>1181</td>\n",
       "      <td>Beehives</td>\n",
       "      <td>1965</td>\n",
       "      <td>1965</td>\n",
       "      <td>No</td>\n",
       "      <td>109800.0</td>\n",
       "      <td>NaN</td>\n",
       "      <td>Official data</td>\n",
       "    </tr>\n",
       "  </tbody>\n",
       "</table>\n",
       "</div>"
      ],
      "text/plain": [
       "  Domain Code        Domain  Area Code     Area  Element Code Element  \\\n",
       "0          QA  Live Animals          3  Albania          5114  Stocks   \n",
       "1          QA  Live Animals          3  Albania          5114  Stocks   \n",
       "2          QA  Live Animals          3  Albania          5114  Stocks   \n",
       "3          QA  Live Animals          3  Albania          5114  Stocks   \n",
       "4          QA  Live Animals          3  Albania          5114  Stocks   \n",
       "\n",
       "   Item Code      Item  Year Code  Year Unit     Value Flag Flag Description  \n",
       "0       1181  Beehives       1961  1961   No   95100.0  NaN    Official data  \n",
       "1       1181  Beehives       1962  1962   No   92800.0  NaN    Official data  \n",
       "2       1181  Beehives       1963  1963   No   83500.0  NaN    Official data  \n",
       "3       1181  Beehives       1964  1964   No   96500.0  NaN    Official data  \n",
       "4       1181  Beehives       1965  1965   No  109800.0  NaN    Official data  "
      ]
     },
     "execution_count": 2,
     "metadata": {},
     "output_type": "execute_result"
    }
   ],
   "source": [
    "beehives_raw = pd.read_csv('data/FAOSTAT_Live_Stock.csv')\n",
    "beehives_raw.head()"
   ]
  },
  {
   "cell_type": "markdown",
   "metadata": {},
   "source": [
    "Let's only select the columns that interest us, i.e. everythin apart from the country, the year and the number of beehives."
   ]
  },
  {
   "cell_type": "code",
   "execution_count": 3,
   "metadata": {},
   "outputs": [
    {
     "data": {
      "text/html": [
       "<div>\n",
       "<style scoped>\n",
       "    .dataframe tbody tr th:only-of-type {\n",
       "        vertical-align: middle;\n",
       "    }\n",
       "\n",
       "    .dataframe tbody tr th {\n",
       "        vertical-align: top;\n",
       "    }\n",
       "\n",
       "    .dataframe thead th {\n",
       "        text-align: right;\n",
       "    }\n",
       "</style>\n",
       "<table border=\"1\" class=\"dataframe\">\n",
       "  <thead>\n",
       "    <tr style=\"text-align: right;\">\n",
       "      <th></th>\n",
       "      <th>Area</th>\n",
       "      <th>Year</th>\n",
       "      <th>Value</th>\n",
       "    </tr>\n",
       "  </thead>\n",
       "  <tbody>\n",
       "    <tr>\n",
       "      <td>0</td>\n",
       "      <td>Albania</td>\n",
       "      <td>1961</td>\n",
       "      <td>95100.0</td>\n",
       "    </tr>\n",
       "    <tr>\n",
       "      <td>1</td>\n",
       "      <td>Albania</td>\n",
       "      <td>1962</td>\n",
       "      <td>92800.0</td>\n",
       "    </tr>\n",
       "    <tr>\n",
       "      <td>2</td>\n",
       "      <td>Albania</td>\n",
       "      <td>1963</td>\n",
       "      <td>83500.0</td>\n",
       "    </tr>\n",
       "    <tr>\n",
       "      <td>3</td>\n",
       "      <td>Albania</td>\n",
       "      <td>1964</td>\n",
       "      <td>96500.0</td>\n",
       "    </tr>\n",
       "    <tr>\n",
       "      <td>4</td>\n",
       "      <td>Albania</td>\n",
       "      <td>1965</td>\n",
       "      <td>109800.0</td>\n",
       "    </tr>\n",
       "  </tbody>\n",
       "</table>\n",
       "</div>"
      ],
      "text/plain": [
       "      Area  Year     Value\n",
       "0  Albania  1961   95100.0\n",
       "1  Albania  1962   92800.0\n",
       "2  Albania  1963   83500.0\n",
       "3  Albania  1964   96500.0\n",
       "4  Albania  1965  109800.0"
      ]
     },
     "execution_count": 3,
     "metadata": {},
     "output_type": "execute_result"
    }
   ],
   "source": [
    "beehives_raw = beehives_raw[['Area', 'Year', 'Value']]\n",
    "beehives_raw.head()"
   ]
  },
  {
   "cell_type": "markdown",
   "metadata": {},
   "source": [
    "Then, let's import a small dataset that lists all the countries in the world to their respective continents. The csv file was [found here](https://github.com/lukes/ISO-3166-Countries-with-Regional-Codes/blob/master/all/all.csv)."
   ]
  },
  {
   "cell_type": "code",
   "execution_count": 4,
   "metadata": {},
   "outputs": [
    {
     "name": "stdout",
     "output_type": "stream",
     "text": [
      "Are the countries in the dataset unique? -> True\n"
     ]
    },
    {
     "data": {
      "text/html": [
       "<div>\n",
       "<style scoped>\n",
       "    .dataframe tbody tr th:only-of-type {\n",
       "        vertical-align: middle;\n",
       "    }\n",
       "\n",
       "    .dataframe tbody tr th {\n",
       "        vertical-align: top;\n",
       "    }\n",
       "\n",
       "    .dataframe thead th {\n",
       "        text-align: right;\n",
       "    }\n",
       "</style>\n",
       "<table border=\"1\" class=\"dataframe\">\n",
       "  <thead>\n",
       "    <tr style=\"text-align: right;\">\n",
       "      <th></th>\n",
       "      <th>region</th>\n",
       "    </tr>\n",
       "    <tr>\n",
       "      <th>name</th>\n",
       "      <th></th>\n",
       "    </tr>\n",
       "  </thead>\n",
       "  <tbody>\n",
       "    <tr>\n",
       "      <td>Afghanistan</td>\n",
       "      <td>Asia</td>\n",
       "    </tr>\n",
       "    <tr>\n",
       "      <td>Åland Islands</td>\n",
       "      <td>Europe</td>\n",
       "    </tr>\n",
       "    <tr>\n",
       "      <td>Albania</td>\n",
       "      <td>Europe</td>\n",
       "    </tr>\n",
       "    <tr>\n",
       "      <td>Algeria</td>\n",
       "      <td>Africa</td>\n",
       "    </tr>\n",
       "    <tr>\n",
       "      <td>American Samoa</td>\n",
       "      <td>Oceania</td>\n",
       "    </tr>\n",
       "  </tbody>\n",
       "</table>\n",
       "</div>"
      ],
      "text/plain": [
       "                 region\n",
       "name                   \n",
       "Afghanistan        Asia\n",
       "Åland Islands    Europe\n",
       "Albania          Europe\n",
       "Algeria          Africa\n",
       "American Samoa  Oceania"
      ]
     },
     "execution_count": 4,
     "metadata": {},
     "output_type": "execute_result"
    }
   ],
   "source": [
    "countries = pd.read_csv('data/countries.csv')\n",
    "# We only want the name of the country and its continent\n",
    "countries = countries[['name', 'region']]\n",
    "countries = countries.set_index('name')\n",
    "print('Are the countries in the dataset unique? -> %s' % countries.index.is_unique)\n",
    "countries.head()"
   ]
  },
  {
   "cell_type": "markdown",
   "metadata": {},
   "source": [
    "The `countries` dataset does not have data from certain countries present in the FAOSTAT dataset. These countries have either ceased to exist (USSR, Yugoslavia, ...), or were defined differently (China, mainland, ...)."
   ]
  },
  {
   "cell_type": "code",
   "execution_count": 5,
   "metadata": {},
   "outputs": [
    {
     "data": {
      "text/plain": [
       "Africa      63\n",
       "Europe      58\n",
       "Americas    57\n",
       "Asia        55\n",
       "Oceania     30\n",
       "Name: region, dtype: int64"
      ]
     },
     "execution_count": 5,
     "metadata": {},
     "output_type": "execute_result"
    }
   ],
   "source": [
    "countries.loc['Belgium-Luxembourg'] = 'Europe'\n",
    "countries.loc['China, mainland'] = 'Asia'\n",
    "countries.loc['China, Taiwan Province of'] = 'Asia'\n",
    "countries.loc['Czechoslovakia'] = 'Europe'\n",
    "countries.loc['Ethiopia PDR'] = 'Africa'\n",
    "countries.loc['Palestine'] = 'Asia'\n",
    "countries.loc['Republic of Korea'] = 'Asia'\n",
    "countries.loc['Republic of Moldova'] = 'Europe'\n",
    "countries.loc['Serbia and Montenegro'] = 'Europe'\n",
    "countries.loc['Sudan (former)'] = 'Africa'\n",
    "countries.loc['United Kingdom'] = 'Europe'\n",
    "countries.loc['United Republic of Tanzania'] = 'Africa'\n",
    "countries.loc['USSR'] = 'Europe'\n",
    "countries.loc['Wallis and Futuna Islands'] = 'Oceania'\n",
    "countries.loc['Yugoslav SFR'] = 'Europe'\n",
    "\n",
    "countries['region'].value_counts()"
   ]
  },
  {
   "cell_type": "markdown",
   "metadata": {},
   "source": [
    "We indeed verify that all 5 continents are present.\n",
    "\n",
    "Then, we add the continent as a column in our beehive dataset."
   ]
  },
  {
   "cell_type": "code",
   "execution_count": 6,
   "metadata": {},
   "outputs": [
    {
     "data": {
      "text/html": [
       "<div>\n",
       "<style scoped>\n",
       "    .dataframe tbody tr th:only-of-type {\n",
       "        vertical-align: middle;\n",
       "    }\n",
       "\n",
       "    .dataframe tbody tr th {\n",
       "        vertical-align: top;\n",
       "    }\n",
       "\n",
       "    .dataframe thead th {\n",
       "        text-align: right;\n",
       "    }\n",
       "</style>\n",
       "<table border=\"1\" class=\"dataframe\">\n",
       "  <thead>\n",
       "    <tr style=\"text-align: right;\">\n",
       "      <th></th>\n",
       "      <th>Area</th>\n",
       "      <th>Year</th>\n",
       "      <th>Value</th>\n",
       "      <th>Continent</th>\n",
       "    </tr>\n",
       "  </thead>\n",
       "  <tbody>\n",
       "    <tr>\n",
       "      <td>0</td>\n",
       "      <td>Albania</td>\n",
       "      <td>1961</td>\n",
       "      <td>95100.0</td>\n",
       "      <td>Europe</td>\n",
       "    </tr>\n",
       "    <tr>\n",
       "      <td>1</td>\n",
       "      <td>Albania</td>\n",
       "      <td>1962</td>\n",
       "      <td>92800.0</td>\n",
       "      <td>Europe</td>\n",
       "    </tr>\n",
       "    <tr>\n",
       "      <td>2</td>\n",
       "      <td>Albania</td>\n",
       "      <td>1963</td>\n",
       "      <td>83500.0</td>\n",
       "      <td>Europe</td>\n",
       "    </tr>\n",
       "    <tr>\n",
       "      <td>3</td>\n",
       "      <td>Albania</td>\n",
       "      <td>1964</td>\n",
       "      <td>96500.0</td>\n",
       "      <td>Europe</td>\n",
       "    </tr>\n",
       "    <tr>\n",
       "      <td>4</td>\n",
       "      <td>Albania</td>\n",
       "      <td>1965</td>\n",
       "      <td>109800.0</td>\n",
       "      <td>Europe</td>\n",
       "    </tr>\n",
       "  </tbody>\n",
       "</table>\n",
       "</div>"
      ],
      "text/plain": [
       "      Area  Year     Value Continent\n",
       "0  Albania  1961   95100.0    Europe\n",
       "1  Albania  1962   92800.0    Europe\n",
       "2  Albania  1963   83500.0    Europe\n",
       "3  Albania  1964   96500.0    Europe\n",
       "4  Albania  1965  109800.0    Europe"
      ]
     },
     "execution_count": 6,
     "metadata": {},
     "output_type": "execute_result"
    }
   ],
   "source": [
    "beehives_raw['Continent'] = beehives_raw.apply(lambda row: countries.loc[row['Area']], axis=1)\n",
    "beehives_raw.head()"
   ]
  },
  {
   "cell_type": "markdown",
   "metadata": {},
   "source": [
    "We can now aggregate the values together for each continent."
   ]
  },
  {
   "cell_type": "code",
   "execution_count": 7,
   "metadata": {},
   "outputs": [
    {
     "data": {
      "text/html": [
       "<div>\n",
       "<style scoped>\n",
       "    .dataframe tbody tr th:only-of-type {\n",
       "        vertical-align: middle;\n",
       "    }\n",
       "\n",
       "    .dataframe tbody tr th {\n",
       "        vertical-align: top;\n",
       "    }\n",
       "\n",
       "    .dataframe thead tr th {\n",
       "        text-align: left;\n",
       "    }\n",
       "\n",
       "    .dataframe thead tr:last-of-type th {\n",
       "        text-align: right;\n",
       "    }\n",
       "</style>\n",
       "<table border=\"1\" class=\"dataframe\">\n",
       "  <thead>\n",
       "    <tr>\n",
       "      <th>Number of beehives</th>\n",
       "      <th colspan=\"5\" halign=\"left\">Value</th>\n",
       "    </tr>\n",
       "    <tr>\n",
       "      <th>Continent</th>\n",
       "      <th>Africa</th>\n",
       "      <th>Americas</th>\n",
       "      <th>Asia</th>\n",
       "      <th>Europe</th>\n",
       "      <th>Oceania</th>\n",
       "    </tr>\n",
       "    <tr>\n",
       "      <th>Year</th>\n",
       "      <th></th>\n",
       "      <th></th>\n",
       "      <th></th>\n",
       "      <th></th>\n",
       "      <th></th>\n",
       "    </tr>\n",
       "  </thead>\n",
       "  <tbody>\n",
       "    <tr>\n",
       "      <td>1961</td>\n",
       "      <td>6845050.0</td>\n",
       "      <td>10019254.0</td>\n",
       "      <td>14060894.0</td>\n",
       "      <td>21097615.0</td>\n",
       "      <td>506660.0</td>\n",
       "    </tr>\n",
       "    <tr>\n",
       "      <td>1962</td>\n",
       "      <td>6986195.0</td>\n",
       "      <td>10038371.0</td>\n",
       "      <td>14361851.0</td>\n",
       "      <td>21182265.0</td>\n",
       "      <td>530345.0</td>\n",
       "    </tr>\n",
       "    <tr>\n",
       "      <td>1963</td>\n",
       "      <td>7291050.0</td>\n",
       "      <td>9388825.0</td>\n",
       "      <td>14559696.0</td>\n",
       "      <td>21758651.0</td>\n",
       "      <td>491061.0</td>\n",
       "    </tr>\n",
       "    <tr>\n",
       "      <td>1964</td>\n",
       "      <td>7365275.0</td>\n",
       "      <td>9261154.0</td>\n",
       "      <td>14963317.0</td>\n",
       "      <td>21159899.0</td>\n",
       "      <td>533889.0</td>\n",
       "    </tr>\n",
       "    <tr>\n",
       "      <td>1965</td>\n",
       "      <td>7822375.0</td>\n",
       "      <td>8221129.0</td>\n",
       "      <td>16588637.0</td>\n",
       "      <td>20966688.0</td>\n",
       "      <td>526280.0</td>\n",
       "    </tr>\n",
       "  </tbody>\n",
       "</table>\n",
       "</div>"
      ],
      "text/plain": [
       "Number of beehives      Value                                              \n",
       "Continent              Africa    Americas        Asia      Europe   Oceania\n",
       "Year                                                                       \n",
       "1961                6845050.0  10019254.0  14060894.0  21097615.0  506660.0\n",
       "1962                6986195.0  10038371.0  14361851.0  21182265.0  530345.0\n",
       "1963                7291050.0   9388825.0  14559696.0  21758651.0  491061.0\n",
       "1964                7365275.0   9261154.0  14963317.0  21159899.0  533889.0\n",
       "1965                7822375.0   8221129.0  16588637.0  20966688.0  526280.0"
      ]
     },
     "execution_count": 7,
     "metadata": {},
     "output_type": "execute_result"
    }
   ],
   "source": [
    "beehives = beehives_raw.drop('Area', 1)\n",
    "beehives = beehives.pivot_table(index=['Year'], columns=['Continent'], aggfunc=np.sum)\n",
    "beehives.columns.names = ['Number of beehives', 'Continent']\n",
    "beehives.head()"
   ]
  },
  {
   "cell_type": "markdown",
   "metadata": {},
   "source": [
    "Let's plot the absolute values to see what is exactly going on."
   ]
  },
  {
   "cell_type": "code",
   "execution_count": 8,
   "metadata": {},
   "outputs": [
    {
     "data": {
      "image/png": "[encoded data removed]",
      "text/plain": [
       "<Figure size 720x720 with 1 Axes>"
      ]
     },
     "metadata": {
      "needs_background": "light"
     },
     "output_type": "display_data"
    }
   ],
   "source": [
    "def plot_beehives(df):\n",
    "    ax = df.plot(kind='line', figsize=(10,10))\n",
    "    ax.set_ylabel('Number of beehives')\n",
    "    return ax\n",
    "    \n",
    "plot_beehives(beehives);"
   ]
  },
  {
   "cell_type": "markdown",
   "metadata": {},
   "source": [
    "We can observe the following:\n",
    "\n",
    "- Asia sees the biggest growth on Earth, surpassing Europe in the 80s.\n",
    "- Europe saw a sharp decline in the 90s, and recovers slowly since the 2010s.\n",
    "- Afica does not see any real change since the beggining of the 2000s\n",
    "- Americas seem to not really evolve in numbers since the beginning.\n",
    "- It's difficult to tell for Oceania.\n",
    "\n",
    "That's all well and good, but the most interesting statistic would be to see the derivate of these values. Let's modify our pivot table."
   ]
  },
  {
   "cell_type": "code",
   "execution_count": 9,
   "metadata": {},
   "outputs": [],
   "source": [
    "beehives_derivative = beehives.diff() / beehives\n",
    "# This obviously creates a NaN value for the first year, let's replace it by 0\n",
    "beehives_derivative = beehives_derivative.fillna(0)"
   ]
  },
  {
   "cell_type": "markdown",
   "metadata": {},
   "source": [
    "### Europe"
   ]
  },
  {
   "cell_type": "markdown",
   "metadata": {},
   "source": [
    "Now, let's compute the values for Europe."
   ]
  },
  {
   "cell_type": "code",
   "execution_count": null,
   "metadata": {},
   "outputs": [],
   "source": [
    "beehives_evol_eur = beehives_derivative[('Value','Europe')]\n",
    "print(beehives_evol_eur.mean())\n",
    "ax = plot_beehives(beehives_evol_eur)\n",
    "ax.axhline(y=0.0, color='red', linestyle='--', label='No evolution')\n",
    "ax.set_title('Evolution in the number of beehives in Europe.')\n",
    "plt.legend();"
   ]
  },
  {
   "cell_type": "code",
   "execution_count": null,
   "metadata": {},
   "outputs": [],
   "source": [
    "decrease = abs(beehives_evol_eur.min()*100)\n",
    "msg = 'Europe saw their worst year in total beehives numbers in %d, where it lost %.1f%% of their count.'\n",
    "print(msg % (beehives_evol_eur.idxmin(), decrease))"
   ]
  },
  {
   "cell_type": "markdown",
   "metadata": {},
   "source": [
    "We can see a very sharp decline in 1992. Let's investigate on where it came from, by looking at the individual countries in Europe."
   ]
  },
  {
   "cell_type": "code",
   "execution_count": null,
   "metadata": {},
   "outputs": [],
   "source": [
    "def build_continent(continent):\n",
    "    continent = beehives_raw[beehives_raw['Continent'] == continent]\n",
    "    continent = continent.pivot_table(index=['Year'], columns=['Area'], aggfunc=np.sum)\n",
    "    continent.columns.names = ['Number of beehives', 'Country']\n",
    "    return continent\n",
    "    \n",
    "\n",
    "beehives_eur = build_continent('Europe')\n",
    "\n",
    "beehives_eur_gains = beehives_eur.diff()\n",
    "beehives_eur_gains = beehives_eur_gains.fillna(0)\n",
    "\n",
    "beehives_eur_1992 = beehives_eur_gains.loc[1992]\n",
    "beehives_eur_1992[beehives_eur_1992 < 0.0].sort_values()"
   ]
  },
  {
   "cell_type": "markdown",
   "metadata": {},
   "source": [
    "We see that there are 6 countries that are the biggest losers in 1992. Let's investigate them."
   ]
  },
  {
   "cell_type": "code",
   "execution_count": null,
   "metadata": {},
   "outputs": [],
   "source": [
    "def plot_country(country, top=2e6):\n",
    "    ax = plot_beehives(beehives_raw[beehives_raw['Area'] == country].set_index('Year'))\n",
    "    ax.set_title('Number of beehives in %s' % country)\n",
    "    ax.set_ylim(bottom=0, top=top)\n",
    "    \n",
    "plot_country('Bulgaria')"
   ]
  },
  {
   "cell_type": "markdown",
   "metadata": {},
   "source": [
    "We see that the number of beehives in Bulgaria dropped significantly during the first years of the 90s, and rose again in the mid 00s. This is maybe due to the fall of the Warsaw pact. So this is a legitimate loss for this year."
   ]
  },
  {
   "cell_type": "code",
   "execution_count": null,
   "metadata": {},
   "outputs": [],
   "source": [
    "plot_country('Czechoslovakia')"
   ]
  },
  {
   "cell_type": "markdown",
   "metadata": {},
   "source": [
    "Here, we can see a similar reason than Bulgaria, albeit with a lesser drop. The reason we have no data after 1992 is that the country was split and became Czechia and Slovakia. Let's build the graph as if the country never split."
   ]
  },
  {
   "cell_type": "code",
   "execution_count": null,
   "metadata": {},
   "outputs": [],
   "source": [
    "def extract_value(country, year):\n",
    "    return beehives_raw[beehives_raw['Area'] == country].set_index('Year').loc[year].values[1]\n",
    "\n",
    "beehives_cshh = beehives_raw[beehives_raw['Area'].isin(['Czechia', 'Slovakia'])]\n",
    "beehives_cshh = beehives_cshh.pivot_table(index=['Year'], columns=['Area'], aggfunc=np.sum)\n",
    "beehives_cshh.columns.names = ['Number of beehives', 'Country']\n",
    "beehives_cshh[('Value', 'Czechoslovakia')] = beehives_cshh[('Value', 'Czechia')] + beehives_cshh[('Value', 'Slovakia')]\n",
    "beehives_cshh = beehives_raw[beehives_raw['Area'] == 'Czechoslovakia'].set_index('Year')['Value'].append(beehives_cshh[('Value', 'Czechoslovakia')])\n",
    "ax = beehives_cshh.plot(kind='line',figsize=(15,10))\n",
    "ax.set_ylabel('Number of beehives')\n",
    "ax.set_ylim(bottom=0, top=2e6);"
   ]
  },
  {
   "cell_type": "markdown",
   "metadata": {},
   "source": [
    "With this now complete statistic for Czechoslovakia, we see a gloally very similar outcome than what Bulgaria experienced. But the country (-ies) did not manage to come back to their levels of before the fall of communism in Europe, even though the drop was far less impressive than in Bulgaria.\n",
    "\n",
    "Let's analyse the next in the list, namely Germany."
   ]
  },
  {
   "cell_type": "code",
   "execution_count": null,
   "metadata": {},
   "outputs": [],
   "source": [
    "plot_country('Germany')"
   ]
  },
  {
   "cell_type": "markdown",
   "metadata": {},
   "source": [
    "We also see a significant drop from the beginning of the 90s. Contrary to other countries previously encountered, Germany never came close to its glorious past days. We can suppose that honey was a big factor in Eastern Germany, and since the reunification, it isn't seen as lucrative.\n",
    "\n",
    "We also note that Germany was a very big \"producer\" of beehives in 1961, when the statistics began. This is not the case now.\n",
    "\n",
    "Now, let's see Albania."
   ]
  },
  {
   "cell_type": "code",
   "execution_count": null,
   "metadata": {},
   "outputs": [],
   "source": [
    "plot_country('Albania')"
   ]
  },
  {
   "cell_type": "markdown",
   "metadata": {},
   "source": [
    "The wars in the Balkans is probably the cause of this drop. However, after this, the number of beehives grew, whereas it was only stable before these terrible events.\n",
    "\n",
    "Let's now see France."
   ]
  },
  {
   "cell_type": "code",
   "execution_count": null,
   "metadata": {},
   "outputs": [],
   "source": [
    "plot_country('France')"
   ]
  },
  {
   "cell_type": "markdown",
   "metadata": {},
   "source": [
    "It looks like no updated number of beehives were given in the 80s, so the latest value was simply reported for all these years. After the 80s, we see a continuous drop in their numbers, until today, which is one of the lowest recorded numbers for France.\n",
    "\n",
    "We can see some \"glitches\" in the 70s, probably due to counting errors. It's unlikely the numbers would have changed so quickly."
   ]
  },
  {
   "cell_type": "code",
   "execution_count": null,
   "metadata": {},
   "outputs": [],
   "source": [
    "plot_country('Sweden')"
   ]
  },
  {
   "cell_type": "markdown",
   "metadata": {},
   "source": [
    "The last country on our list, Sweden, sees their number be very stable since the 90s.\n",
    "\n",
    "Now, let's analyze the recent gains observed in Europe."
   ]
  },
  {
   "cell_type": "code",
   "execution_count": null,
   "metadata": {},
   "outputs": [],
   "source": [
    "beehives_eur_2010s = beehives_eur_gains.loc[beehives_eur_gains.index >= 2010]\n",
    "beehives_gains_2010s = beehives_eur_2010s.max().sort_values(ascending=False)\n",
    "beehives_gains_2010s = beehives_gains_2010s[beehives_gains_2010s > 2e5]\n",
    "beehives_gains_2010s"
   ]
  },
  {
   "cell_type": "markdown",
   "metadata": {},
   "source": [
    "We note that a few countries have known some exceptional years of growth. Let's analyze Serbia, Romania and Russia."
   ]
  },
  {
   "cell_type": "code",
   "execution_count": null,
   "metadata": {},
   "outputs": [],
   "source": [
    "plot_country('Serbia')"
   ]
  },
  {
   "cell_type": "markdown",
   "metadata": {},
   "source": [
    "Again, Serbia is a fairly new country, since before it was Serbia and Montenegro, and even before, Yugoslavia. But this suffices to see that the grwoth observed in the 2010s is very impressive indeed."
   ]
  },
  {
   "cell_type": "code",
   "execution_count": null,
   "metadata": {},
   "outputs": [],
   "source": [
    "plot_country('Romania')"
   ]
  },
  {
   "cell_type": "markdown",
   "metadata": {},
   "source": [
    "Here, we have almost a carbon copy of the behavior observed in Bulgaria. Romania just regained the levels at which they were before the fall of the Eastern Bloc."
   ]
  },
  {
   "cell_type": "code",
   "execution_count": null,
   "metadata": {},
   "outputs": [],
   "source": [
    "ax = plot_country('Russian Federation', top=5e6)"
   ]
  },
  {
   "cell_type": "markdown",
   "metadata": {},
   "source": [
    "We see that Russia has an enormous number of beehives. There is a significant drop since the fall of the USSR, which seems nowadays more or less stabilized.\n",
    "\n",
    "Let's finally see which European countries have the most beehives."
   ]
  },
  {
   "cell_type": "code",
   "execution_count": null,
   "metadata": {},
   "outputs": [],
   "source": [
    "beehives_eur[beehives_eur.index == 2017].iloc[0].sort_values(ascending=False).head(10)"
   ]
  },
  {
   "cell_type": "markdown",
   "metadata": {},
   "source": [
    "We can conclude this portion of the analysis that the significant drop observed in Europe in the beginning of the 90s was certainly due to the fall of the USSR, and all the economic turmoil it caused."
   ]
  },
  {
   "cell_type": "markdown",
   "metadata": {},
   "source": [
    "### Asia"
   ]
  },
  {
   "cell_type": "markdown",
   "metadata": {},
   "source": [
    "Firstly, let's see the biggest players in Asia."
   ]
  },
  {
   "cell_type": "code",
   "execution_count": null,
   "metadata": {},
   "outputs": [],
   "source": [
    "beehives_asia = build_continent('Asia')\n",
    "beehives_asia[beehives_asia.index == 2017].iloc[0].sort_values(ascending=False).head(10)"
   ]
  },
  {
   "cell_type": "markdown",
   "metadata": {},
   "source": [
    "We see several outliers: India, China (China, mainland and China, Taiwan Province of), Turky and Iran. Let's see their respective evolutions."
   ]
  },
  {
   "cell_type": "code",
   "execution_count": null,
   "metadata": {},
   "outputs": [],
   "source": [
    "plot_country('India', top=2e7)"
   ]
  },
  {
   "cell_type": "code",
   "execution_count": null,
   "metadata": {},
   "outputs": [],
   "source": [
    "plot_country('China', top=2e7)"
   ]
  },
  {
   "cell_type": "code",
   "execution_count": null,
   "metadata": {},
   "outputs": [],
   "source": [
    "plot_country('Turkey', top=2e7)"
   ]
  },
  {
   "cell_type": "code",
   "execution_count": null,
   "metadata": {},
   "outputs": [],
   "source": [
    "plot_country('Iran (Islamic Republic of)', top=2e7)"
   ]
  },
  {
   "cell_type": "markdown",
   "metadata": {},
   "source": [
    "The beehive growth in these countries is mainly due to their economic growth, even if we are not sure why Turkey gained such an interest in beehives in the recent years. The global Asian growth can be reduced to the growth of these countries, since their numbers are far beyond any other country in Asia."
   ]
  },
  {
   "cell_type": "markdown",
   "metadata": {},
   "source": [
    "### Americas\n",
    "\n",
    "Since the beehive numbers are stable America, let's plot the biggest producers' history."
   ]
  },
  {
   "cell_type": "code",
   "execution_count": null,
   "metadata": {},
   "outputs": [],
   "source": [
    "beehives_am = build_continent('Americas')\n",
    "beehives_am[beehives_am.index == 2017].iloc[0].sort_values(ascending=False).head(4)"
   ]
  },
  {
   "cell_type": "code",
   "execution_count": null,
   "metadata": {},
   "outputs": [],
   "source": [
    "plot_country('Argentina', top=6e6)"
   ]
  },
  {
   "cell_type": "code",
   "execution_count": null,
   "metadata": {},
   "outputs": [],
   "source": [
    "plot_country('United States of America', top=6e6)"
   ]
  },
  {
   "cell_type": "code",
   "execution_count": null,
   "metadata": {},
   "outputs": [],
   "source": [
    "plot_country('Mexico', top=6e6)"
   ]
  },
  {
   "cell_type": "code",
   "execution_count": null,
   "metadata": {},
   "outputs": [],
   "source": [
    "plot_country('Brazil', top=6e6)"
   ]
  },
  {
   "cell_type": "markdown",
   "metadata": {},
   "source": [
    "We see very different behaviors:\n",
    "    \n",
    "- Argentina has the most beehives in the Americas. Their numbers grew at first very quickly, but are stable since ca. 2000.\n",
    "- The US are second, but had way more beehives in the 60s. Their numbers fell until the mid 90s (they more than halved in this time period!), then stabilized.\n",
    "- Mexico is overall stable for the period (1961-2017)\n",
    "- Brazil saw a very big increase in the number of beehives in the 80s, and then stablized their numbers."
   ]
  },
  {
   "cell_type": "markdown",
   "metadata": {
    "colab_type": "text",
    "id": "GekSAwOv9BPj"
   },
   "source": [
    "## 2. How do changes in honey production relate to number of beehives in Europe and the USA?\n",
    "\n",
    "Let's apply the same process to the honey production data than to the number of beehives."
   ]
  },
  {
   "cell_type": "code",
   "execution_count": null,
   "metadata": {},
   "outputs": [],
   "source": [
    "honey_raw = pd.read_csv('data/FAOSTAT_Livestock_Primary.csv')\n",
    "honey_raw = honey_raw[['Area', 'Year', 'Value']]\n",
    "honey_raw['Continent'] = honey_raw.apply(lambda row: countries.loc[row['Area']], axis=1)\n",
    "honey_raw.head()"
   ]
  },
  {
   "cell_type": "code",
   "execution_count": null,
   "metadata": {},
   "outputs": [],
   "source": [
    "honey_eur = honey_raw[honey_raw['Continent'] == 'Europe'].drop('Area', 1)\n",
    "honey_eur = honey_eur.pivot_table(index=['Year'], columns=['Continent'], aggfunc=np.sum)\n",
    "honey_eur.columns.names = ['Honey production in tonnes', 'Continent']"
   ]
  },
  {
   "cell_type": "markdown",
   "metadata": {},
   "source": [
    "Let's check if we have the same countries as for the number of beehives."
   ]
  },
  {
   "cell_type": "code",
   "execution_count": null,
   "metadata": {},
   "outputs": [],
   "source": [
    "honey_countries_eur = honey_raw[honey_raw['Continent'] == 'Europe']['Area'].value_counts().keys()\n",
    "beehives_countries_eur = beehives_raw[beehives_raw['Continent'] == 'Europe']['Area'].value_counts().keys()\n",
    "print(set(honey_countries_eur).symmetric_difference(set(beehives_countries_eur)))\n",
    "print(set(honey_countries_eur) - set(beehives_countries_eur))"
   ]
  },
  {
   "cell_type": "markdown",
   "metadata": {},
   "source": [
    "We see that we do not have any beehive numbers for Denmark, Ireland and Norway. Let's see what percentage of the European honey production they make up in 2017."
   ]
  },
  {
   "cell_type": "code",
   "execution_count": null,
   "metadata": {},
   "outputs": [],
   "source": [
    "honey_prod_eur = honey_eur.loc[2017]['Value']['Europe']\n",
    "honey_prod_2017 = honey_raw[honey_raw['Year'] == 2017]\n",
    "honey_prod_den = honey_prod_2017[honey_prod_2017['Area'] == 'Denmark']['Value'].values[0]\n",
    "honey_prod_eir = honey_prod_2017[honey_prod_2017['Area'] == 'Ireland']['Value'].values[0]\n",
    "honey_prod_nor = honey_prod_2017[honey_prod_2017['Area'] == 'Norway']['Value'].values[0]\n",
    "proportion = (honey_prod_den + honey_prod_eir + honey_prod_nor) / honey_prod_eur\n",
    "print('Denmark, Ireland and Norway make up %f%% of the European honey production.' % (proportion * 100))"
   ]
  },
  {
   "cell_type": "markdown",
   "metadata": {},
   "source": [
    "These 3 countries make up less than one thousandth of the total European honey production, so we can safely drop them from the dataset."
   ]
  },
  {
   "cell_type": "code",
   "execution_count": null,
   "metadata": {},
   "outputs": [],
   "source": [
    "# Redo statistics without Denmark, Ireland and Norway\n",
    "honey_eur = honey_raw[honey_raw['Continent'] == 'Europe']\n",
    "honey_eur = honey_eur[honey_eur['Area'].isin(beehives_countries_eur)].drop('Area', 1)\n",
    "honey_eur = honey_eur.pivot_table(index=['Year'], columns=['Continent'], aggfunc=np.sum)\n",
    "honey_eur.columns.names = ['Honey production in tonnes', 'Continent']\n",
    "\n",
    "honey_eur.plot(kind='line',figsize=(15,10))"
   ]
  },
  {
   "cell_type": "markdown",
   "metadata": {},
   "source": [
    "Here, we already see a major difference with respects to what we observed with the number of beehives. Honey production did not stop growing in the 90s, even though there was a big drop in the number of beehives.\n",
    "\n",
    "Let's plot the differences between each year for both honey and beehives."
   ]
  },
  {
   "cell_type": "code",
   "execution_count": null,
   "metadata": {},
   "outputs": [],
   "source": [
    "honey_derivative = honey_eur.diff() / honey_eur\n",
    "honey_derivative = honey_derivative.fillna(0)[('Value', 'Europe')]"
   ]
  },
  {
   "cell_type": "code",
   "execution_count": null,
   "metadata": {},
   "outputs": [],
   "source": [
    "ax = beehives_evol_eur.plot(kind='line', figsize=(15,10), label='Beehive evolution')\n",
    "honey_derivative.plot(ax=ax, label='Honey Evolution')\n",
    "\n",
    "ax.axhline(y=0.0, color='red', linestyle='--', label='No evolution')\n",
    "ax.set_title('Evolution in the number of beehives in Europe and honey production')\n",
    "plt.legend();"
   ]
  },
  {
   "cell_type": "code",
   "execution_count": null,
   "metadata": {},
   "outputs": [],
   "source": [
    "eur_diff = honey_derivative - beehives_evol_eur\n",
    "ax = eur_diff.plot(kind='line', figsize=(15,10), label='Difference')\n",
    "ax.axhline(y=0.0, color='red', linestyle='--', label='No evolution')\n",
    "ax.set_title('Difference between honey production rate and beehive numbers rate')\n",
    "plt.legend();\n",
    "print(eur_diff.mean())"
   ]
  },
  {
   "cell_type": "markdown",
   "metadata": {},
   "source": [
    "On this last series of graphs, we can see that the rate of honey production is very often superior to the one of the number of beehives. This can mean that producers are more efficient with lesser numbers of beehives.\n",
    "\n",
    "Let's do the same thing with the US."
   ]
  },
  {
   "cell_type": "code",
   "execution_count": null,
   "metadata": {},
   "outputs": [],
   "source": [
    "honey_us = honey_raw[honey_raw['Area'] == 'United States of America'].drop('Continent', 1)\n",
    "honey_us = honey_us.pivot_table(index=['Year'], columns=['Area'], aggfunc=np.sum)\n",
    "honey_us.columns.names = ['Honey production in tonnes', 'USA']\n",
    "honey_us.plot(kind='line',figsize=(15,10))"
   ]
  },
  {
   "cell_type": "markdown",
   "metadata": {},
   "source": [
    "Here, on the contrary, we rather confirm that the US have far fewer beehives."
   ]
  },
  {
   "cell_type": "code",
   "execution_count": null,
   "metadata": {},
   "outputs": [],
   "source": [
    "honey_us_derivative = honey_us.diff() / honey_us\n",
    "honey_us_derivative = honey_us_derivative.fillna(0)[('Value', 'United States of America')]"
   ]
  },
  {
   "cell_type": "code",
   "execution_count": null,
   "metadata": {},
   "outputs": [],
   "source": [
    "beehives_evol_us = beehives_raw.drop('Continent', 1)\n",
    "beehives_evol_us = beehives_evol_us[beehives_evol_us['Area'] == 'United States of America']\n",
    "beehives_evol_us = beehives_evol_us.pivot_table(index=['Year'], columns=['Area'], aggfunc=np.sum)\n",
    "beehives_evol_us.columns.names = ['Number of beehives', 'Country']\n",
    "\n",
    "beehives_evol_us = beehives_evol_us.diff() / beehives_evol_us\n",
    "beehives_evol_us = beehives_evol_us.fillna(0)[('Value', 'United States of America')]"
   ]
  },
  {
   "cell_type": "code",
   "execution_count": null,
   "metadata": {},
   "outputs": [],
   "source": [
    "ax = beehives_evol_us.plot(kind='line', figsize=(15,10), label='Beehive evolution')\n",
    "honey_us_derivative.plot(ax=ax, label='Honey Evolution')\n",
    "\n",
    "ax.axhline(y=0.0, color='red', linestyle='--', label='No evolution')\n",
    "ax.set_title('Evolution in the number of beehives in the USA and honey production')\n",
    "plt.legend();"
   ]
  },
  {
   "cell_type": "code",
   "execution_count": null,
   "metadata": {},
   "outputs": [],
   "source": [
    "us_diff = honey_us_derivative - beehives_evol_us\n",
    "ax = us_diff.plot(kind='line', figsize=(15,10), label='Difference')\n",
    "ax.axhline(y=0.0, color='red', linestyle='--', label='No evolution')\n",
    "ax.set_title('Difference between honey production rate and beehive numbers rate')\n",
    "plt.legend();\n",
    "print(us_diff.mean())"
   ]
  },
  {
   "cell_type": "markdown",
   "metadata": {},
   "source": [
    "Here, contrary to Europe, we even see an overall mean that is negative, meaning that honey production drops (on a year-by-year basis) more than the number of beehives, or that it grows less."
   ]
  },
  {
   "cell_type": "markdown",
   "metadata": {
    "colab_type": "text",
    "id": "eaaPApCF9FJi"
   },
   "source": [
    "## 3. What are the consequences of bee decline on the patterns of honey import/export around the world?\n",
    "\n",
    "Eric"
   ]
  },
  {
   "cell_type": "code",
   "execution_count": null,
   "metadata": {
    "colab": {},
    "colab_type": "code",
    "id": "xTYUKhBu9HHq"
   },
   "outputs": [],
   "source": []
  },
  {
   "cell_type": "markdown",
   "metadata": {
    "colab_type": "text",
    "id": "DFSaV12D9IWQ"
   },
   "source": [
    "## 4. What is the relation between US cases of Colony Collapse Disorder and the main factors of CCD?\n",
    "\n",
    "Arthur"
   ]
  },
  {
   "cell_type": "code",
   "execution_count": null,
   "metadata": {
    "colab": {},
    "colab_type": "code",
    "id": "40fcXRKo9KYK"
   },
   "outputs": [],
   "source": []
  },
  {
   "cell_type": "markdown",
   "metadata": {
    "colab_type": "text",
    "id": "OFa-e2Zo9Lbj"
   },
   "source": [
    "## 5. California accounts for 80% of the world almond production, what is the impact of bees on this industry in the 21st century?\n",
    "\n",
    "Tim & Arthur"
   ]
  },
  {
   "cell_type": "code",
   "execution_count": null,
   "metadata": {
    "colab": {},
    "colab_type": "code",
    "id": "qoIGJGhl9M_Y"
   },
   "outputs": [],
   "source": []
  }
 ],
 "metadata": {
  "colab": {
   "collapsed_sections": [],
   "name": "bees.ipynb",
   "provenance": []
  },
  "kernelspec": {
   "display_name": "Python 3",
   "language": "python",
   "name": "python3"
  },
  "language_info": {
   "codemirror_mode": {
    "name": "ipython",
    "version": 3
   },
   "file_extension": ".py",
   "mimetype": "text/x-python",
   "name": "python",
   "nbconvert_exporter": "python",
   "pygments_lexer": "ipython3",
   "version": "3.7.5"
  }
 },
 "nbformat": 4,
 "nbformat_minor": 1
}
