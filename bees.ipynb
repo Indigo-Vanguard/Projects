{
 "cells": [
  {
   "cell_type": "markdown",
   "metadata": {
    "colab_type": "text",
    "id": "IsvByQrd6S1C"
   },
   "source": [
    "# There is no plan bee without them 🐝\n",
    "\n",
    "## Abstract\n",
    "Pollinators around the world play a central role in our agriculture with an estimated economic benefit of €235bn per year. Up to 75% of our crops are dependent on pollination and honeybees account for most of it. Yet, in Europe and the USA the bee population has been declining at an alarming rate during the last decades. As by-hand pollination is not an alternative, it is impossible to imagine a world without them. [1]\n",
    "\n",
    "With this project, we first aim at giving insights about the state of bee health and honey produced and traded using the [FAO datasets](http://www.fao.org/faostat/en/#data). Secondly, we focus on the USA using results from [US Departement of Agriculture](https://quickstats.nass.usda.gov/) in order to identify and present the main factors of bee decline. Finally, we propose a case study about almonds in California to show the consequences of a lack of bees.\n",
    "\n",
    "[[1](http://sos-bees.org/wp-content/uploads/2014/04/BeesInDecline.pdf)] *Bees in Decline*, Greenpeace, 2013\n",
    "\n"
   ]
  },
  {
   "cell_type": "code",
   "execution_count": 186,
   "metadata": {},
   "outputs": [],
   "source": [
    "import pandas as pd\n",
    "import numpy as np\n",
    "import matplotlib\n",
    "import matplotlib.pyplot as plt\n",
    "%matplotlib inline\n",
    "\n",
    "matplotlib.rc('font', **{'size': 12}) # Text more readable"
   ]
  },
  {
   "cell_type": "markdown",
   "metadata": {
    "colab_type": "text",
    "id": "pUdVdLjx89jP"
   },
   "source": [
    "## 1. How do the continents compare in terms of bee decline from 1961 to these days?"
   ]
  },
  {
   "cell_type": "markdown",
   "metadata": {},
   "source": [
    "Our first goal is to plot the evolution of the number of beehives per continent. For this purpose, we use the dataset from FAOSTAT, that lists the number of beehives per country from 1961."
   ]
  },
  {
   "cell_type": "code",
   "execution_count": 156,
   "metadata": {
    "colab": {},
    "colab_type": "code",
    "id": "c3U8c4Uy8_r9"
   },
   "outputs": [
    {
     "data": {
      "text/html": [
       "<div>\n",
       "<style scoped>\n",
       "    .dataframe tbody tr th:only-of-type {\n",
       "        vertical-align: middle;\n",
       "    }\n",
       "\n",
       "    .dataframe tbody tr th {\n",
       "        vertical-align: top;\n",
       "    }\n",
       "\n",
       "    .dataframe thead th {\n",
       "        text-align: right;\n",
       "    }\n",
       "</style>\n",
       "<table border=\"1\" class=\"dataframe\">\n",
       "  <thead>\n",
       "    <tr style=\"text-align: right;\">\n",
       "      <th></th>\n",
       "      <th>Domain Code</th>\n",
       "      <th>Domain</th>\n",
       "      <th>Area Code</th>\n",
       "      <th>Area</th>\n",
       "      <th>Element Code</th>\n",
       "      <th>Element</th>\n",
       "      <th>Item Code</th>\n",
       "      <th>Item</th>\n",
       "      <th>Year Code</th>\n",
       "      <th>Year</th>\n",
       "      <th>Unit</th>\n",
       "      <th>Value</th>\n",
       "      <th>Flag</th>\n",
       "      <th>Flag Description</th>\n",
       "    </tr>\n",
       "  </thead>\n",
       "  <tbody>\n",
       "    <tr>\n",
       "      <td>0</td>\n",
       "      <td>QA</td>\n",
       "      <td>Live Animals</td>\n",
       "      <td>3</td>\n",
       "      <td>Albania</td>\n",
       "      <td>5114</td>\n",
       "      <td>Stocks</td>\n",
       "      <td>1181</td>\n",
       "      <td>Beehives</td>\n",
       "      <td>1961</td>\n",
       "      <td>1961</td>\n",
       "      <td>No</td>\n",
       "      <td>95100.0</td>\n",
       "      <td>NaN</td>\n",
       "      <td>Official data</td>\n",
       "    </tr>\n",
       "    <tr>\n",
       "      <td>1</td>\n",
       "      <td>QA</td>\n",
       "      <td>Live Animals</td>\n",
       "      <td>3</td>\n",
       "      <td>Albania</td>\n",
       "      <td>5114</td>\n",
       "      <td>Stocks</td>\n",
       "      <td>1181</td>\n",
       "      <td>Beehives</td>\n",
       "      <td>1962</td>\n",
       "      <td>1962</td>\n",
       "      <td>No</td>\n",
       "      <td>92800.0</td>\n",
       "      <td>NaN</td>\n",
       "      <td>Official data</td>\n",
       "    </tr>\n",
       "    <tr>\n",
       "      <td>2</td>\n",
       "      <td>QA</td>\n",
       "      <td>Live Animals</td>\n",
       "      <td>3</td>\n",
       "      <td>Albania</td>\n",
       "      <td>5114</td>\n",
       "      <td>Stocks</td>\n",
       "      <td>1181</td>\n",
       "      <td>Beehives</td>\n",
       "      <td>1963</td>\n",
       "      <td>1963</td>\n",
       "      <td>No</td>\n",
       "      <td>83500.0</td>\n",
       "      <td>NaN</td>\n",
       "      <td>Official data</td>\n",
       "    </tr>\n",
       "    <tr>\n",
       "      <td>3</td>\n",
       "      <td>QA</td>\n",
       "      <td>Live Animals</td>\n",
       "      <td>3</td>\n",
       "      <td>Albania</td>\n",
       "      <td>5114</td>\n",
       "      <td>Stocks</td>\n",
       "      <td>1181</td>\n",
       "      <td>Beehives</td>\n",
       "      <td>1964</td>\n",
       "      <td>1964</td>\n",
       "      <td>No</td>\n",
       "      <td>96500.0</td>\n",
       "      <td>NaN</td>\n",
       "      <td>Official data</td>\n",
       "    </tr>\n",
       "    <tr>\n",
       "      <td>4</td>\n",
       "      <td>QA</td>\n",
       "      <td>Live Animals</td>\n",
       "      <td>3</td>\n",
       "      <td>Albania</td>\n",
       "      <td>5114</td>\n",
       "      <td>Stocks</td>\n",
       "      <td>1181</td>\n",
       "      <td>Beehives</td>\n",
       "      <td>1965</td>\n",
       "      <td>1965</td>\n",
       "      <td>No</td>\n",
       "      <td>109800.0</td>\n",
       "      <td>NaN</td>\n",
       "      <td>Official data</td>\n",
       "    </tr>\n",
       "  </tbody>\n",
       "</table>\n",
       "</div>"
      ],
      "text/plain": [
       "  Domain Code        Domain  Area Code     Area  Element Code Element  \\\n",
       "0          QA  Live Animals          3  Albania          5114  Stocks   \n",
       "1          QA  Live Animals          3  Albania          5114  Stocks   \n",
       "2          QA  Live Animals          3  Albania          5114  Stocks   \n",
       "3          QA  Live Animals          3  Albania          5114  Stocks   \n",
       "4          QA  Live Animals          3  Albania          5114  Stocks   \n",
       "\n",
       "   Item Code      Item  Year Code  Year Unit     Value Flag Flag Description  \n",
       "0       1181  Beehives       1961  1961   No   95100.0  NaN    Official data  \n",
       "1       1181  Beehives       1962  1962   No   92800.0  NaN    Official data  \n",
       "2       1181  Beehives       1963  1963   No   83500.0  NaN    Official data  \n",
       "3       1181  Beehives       1964  1964   No   96500.0  NaN    Official data  \n",
       "4       1181  Beehives       1965  1965   No  109800.0  NaN    Official data  "
      ]
     },
     "execution_count": 156,
     "metadata": {},
     "output_type": "execute_result"
    }
   ],
   "source": [
    "beehives_raw = pd.read_csv('data/FAOSTAT_Live_Stock.csv')\n",
    "beehives_raw.head()"
   ]
  },
  {
   "cell_type": "markdown",
   "metadata": {},
   "source": [
    "Let's only select the columns that interest us, i.e. everythin apart from the country, the year and the number of beehives."
   ]
  },
  {
   "cell_type": "code",
   "execution_count": 157,
   "metadata": {},
   "outputs": [
    {
     "data": {
      "text/html": [
       "<div>\n",
       "<style scoped>\n",
       "    .dataframe tbody tr th:only-of-type {\n",
       "        vertical-align: middle;\n",
       "    }\n",
       "\n",
       "    .dataframe tbody tr th {\n",
       "        vertical-align: top;\n",
       "    }\n",
       "\n",
       "    .dataframe thead th {\n",
       "        text-align: right;\n",
       "    }\n",
       "</style>\n",
       "<table border=\"1\" class=\"dataframe\">\n",
       "  <thead>\n",
       "    <tr style=\"text-align: right;\">\n",
       "      <th></th>\n",
       "      <th>Area</th>\n",
       "      <th>Year</th>\n",
       "      <th>Value</th>\n",
       "    </tr>\n",
       "  </thead>\n",
       "  <tbody>\n",
       "    <tr>\n",
       "      <td>0</td>\n",
       "      <td>Albania</td>\n",
       "      <td>1961</td>\n",
       "      <td>95100.0</td>\n",
       "    </tr>\n",
       "    <tr>\n",
       "      <td>1</td>\n",
       "      <td>Albania</td>\n",
       "      <td>1962</td>\n",
       "      <td>92800.0</td>\n",
       "    </tr>\n",
       "    <tr>\n",
       "      <td>2</td>\n",
       "      <td>Albania</td>\n",
       "      <td>1963</td>\n",
       "      <td>83500.0</td>\n",
       "    </tr>\n",
       "    <tr>\n",
       "      <td>3</td>\n",
       "      <td>Albania</td>\n",
       "      <td>1964</td>\n",
       "      <td>96500.0</td>\n",
       "    </tr>\n",
       "    <tr>\n",
       "      <td>4</td>\n",
       "      <td>Albania</td>\n",
       "      <td>1965</td>\n",
       "      <td>109800.0</td>\n",
       "    </tr>\n",
       "  </tbody>\n",
       "</table>\n",
       "</div>"
      ],
      "text/plain": [
       "      Area  Year     Value\n",
       "0  Albania  1961   95100.0\n",
       "1  Albania  1962   92800.0\n",
       "2  Albania  1963   83500.0\n",
       "3  Albania  1964   96500.0\n",
       "4  Albania  1965  109800.0"
      ]
     },
     "execution_count": 157,
     "metadata": {},
     "output_type": "execute_result"
    }
   ],
   "source": [
    "beehives_raw = beehives_raw[['Area', 'Year', 'Value']]\n",
    "beehives_raw.head()"
   ]
  },
  {
   "cell_type": "markdown",
   "metadata": {},
   "source": [
    "Then, let's import a small dataset that lists all the countries in the world to their respective continents. The csv file was [found here](https://github.com/lukes/ISO-3166-Countries-with-Regional-Codes/blob/master/all/all.csv)."
   ]
  },
  {
   "cell_type": "code",
   "execution_count": 158,
   "metadata": {},
   "outputs": [
    {
     "name": "stdout",
     "output_type": "stream",
     "text": [
      "Are the countries in the dataset unique? -> True\n"
     ]
    },
    {
     "data": {
      "text/html": [
       "<div>\n",
       "<style scoped>\n",
       "    .dataframe tbody tr th:only-of-type {\n",
       "        vertical-align: middle;\n",
       "    }\n",
       "\n",
       "    .dataframe tbody tr th {\n",
       "        vertical-align: top;\n",
       "    }\n",
       "\n",
       "    .dataframe thead th {\n",
       "        text-align: right;\n",
       "    }\n",
       "</style>\n",
       "<table border=\"1\" class=\"dataframe\">\n",
       "  <thead>\n",
       "    <tr style=\"text-align: right;\">\n",
       "      <th></th>\n",
       "      <th>region</th>\n",
       "    </tr>\n",
       "    <tr>\n",
       "      <th>name</th>\n",
       "      <th></th>\n",
       "    </tr>\n",
       "  </thead>\n",
       "  <tbody>\n",
       "    <tr>\n",
       "      <td>Afghanistan</td>\n",
       "      <td>Asia</td>\n",
       "    </tr>\n",
       "    <tr>\n",
       "      <td>Åland Islands</td>\n",
       "      <td>Europe</td>\n",
       "    </tr>\n",
       "    <tr>\n",
       "      <td>Albania</td>\n",
       "      <td>Europe</td>\n",
       "    </tr>\n",
       "    <tr>\n",
       "      <td>Algeria</td>\n",
       "      <td>Africa</td>\n",
       "    </tr>\n",
       "    <tr>\n",
       "      <td>American Samoa</td>\n",
       "      <td>Oceania</td>\n",
       "    </tr>\n",
       "  </tbody>\n",
       "</table>\n",
       "</div>"
      ],
      "text/plain": [
       "                 region\n",
       "name                   \n",
       "Afghanistan        Asia\n",
       "Åland Islands    Europe\n",
       "Albania          Europe\n",
       "Algeria          Africa\n",
       "American Samoa  Oceania"
      ]
     },
     "execution_count": 158,
     "metadata": {},
     "output_type": "execute_result"
    }
   ],
   "source": [
    "countries = pd.read_csv('data/countries.csv')\n",
    "# We only want the name of the country and its continent\n",
    "countries = countries[['name', 'region']]\n",
    "countries = countries.set_index('name')\n",
    "print('Are the countries in the dataset unique? -> %s' % countries.index.is_unique)\n",
    "countries.head()"
   ]
  },
  {
   "cell_type": "markdown",
   "metadata": {},
   "source": [
    "The `countries` dataset does not have data from certain countries present in the FAOSTAT dataset. These countries have either ceased to exist (USSR, Yugoslavia, ...), or were defined differently (China, mainland, ...)."
   ]
  },
  {
   "cell_type": "code",
   "execution_count": 159,
   "metadata": {},
   "outputs": [
    {
     "data": {
      "text/plain": [
       "Africa      63\n",
       "Europe      58\n",
       "Americas    57\n",
       "Asia        55\n",
       "Oceania     30\n",
       "Name: region, dtype: int64"
      ]
     },
     "execution_count": 159,
     "metadata": {},
     "output_type": "execute_result"
    }
   ],
   "source": [
    "countries.loc['Belgium-Luxembourg'] = 'Europe'\n",
    "countries.loc['China, mainland'] = 'Asia'\n",
    "countries.loc['China, Taiwan Province of'] = 'Asia'\n",
    "countries.loc['Czechoslovakia'] = 'Europe'\n",
    "countries.loc['Ethiopia PDR'] = 'Africa'\n",
    "countries.loc['Palestine'] = 'Asia'\n",
    "countries.loc['Republic of Korea'] = 'Asia'\n",
    "countries.loc['Republic of Moldova'] = 'Europe'\n",
    "countries.loc['Serbia and Montenegro'] = 'Europe'\n",
    "countries.loc['Sudan (former)'] = 'Africa'\n",
    "countries.loc['United Kingdom'] = 'Europe'\n",
    "countries.loc['United Republic of Tanzania'] = 'Africa'\n",
    "countries.loc['USSR'] = 'Europe'\n",
    "countries.loc['Wallis and Futuna Islands'] = 'Oceania'\n",
    "countries.loc['Yugoslav SFR'] = 'Europe'\n",
    "\n",
    "countries['region'].value_counts()"
   ]
  },
  {
   "cell_type": "markdown",
   "metadata": {},
   "source": [
    "We indeed verify that all 5 continents are present.\n",
    "\n",
    "Then, we add the continent as a column in our beehive dataset."
   ]
  },
  {
   "cell_type": "code",
   "execution_count": 160,
   "metadata": {},
   "outputs": [
    {
     "data": {
      "text/html": [
       "<div>\n",
       "<style scoped>\n",
       "    .dataframe tbody tr th:only-of-type {\n",
       "        vertical-align: middle;\n",
       "    }\n",
       "\n",
       "    .dataframe tbody tr th {\n",
       "        vertical-align: top;\n",
       "    }\n",
       "\n",
       "    .dataframe thead th {\n",
       "        text-align: right;\n",
       "    }\n",
       "</style>\n",
       "<table border=\"1\" class=\"dataframe\">\n",
       "  <thead>\n",
       "    <tr style=\"text-align: right;\">\n",
       "      <th></th>\n",
       "      <th>Area</th>\n",
       "      <th>Year</th>\n",
       "      <th>Value</th>\n",
       "      <th>Continent</th>\n",
       "    </tr>\n",
       "  </thead>\n",
       "  <tbody>\n",
       "    <tr>\n",
       "      <td>0</td>\n",
       "      <td>Albania</td>\n",
       "      <td>1961</td>\n",
       "      <td>95100.0</td>\n",
       "      <td>Europe</td>\n",
       "    </tr>\n",
       "    <tr>\n",
       "      <td>1</td>\n",
       "      <td>Albania</td>\n",
       "      <td>1962</td>\n",
       "      <td>92800.0</td>\n",
       "      <td>Europe</td>\n",
       "    </tr>\n",
       "    <tr>\n",
       "      <td>2</td>\n",
       "      <td>Albania</td>\n",
       "      <td>1963</td>\n",
       "      <td>83500.0</td>\n",
       "      <td>Europe</td>\n",
       "    </tr>\n",
       "    <tr>\n",
       "      <td>3</td>\n",
       "      <td>Albania</td>\n",
       "      <td>1964</td>\n",
       "      <td>96500.0</td>\n",
       "      <td>Europe</td>\n",
       "    </tr>\n",
       "    <tr>\n",
       "      <td>4</td>\n",
       "      <td>Albania</td>\n",
       "      <td>1965</td>\n",
       "      <td>109800.0</td>\n",
       "      <td>Europe</td>\n",
       "    </tr>\n",
       "  </tbody>\n",
       "</table>\n",
       "</div>"
      ],
      "text/plain": [
       "      Area  Year     Value Continent\n",
       "0  Albania  1961   95100.0    Europe\n",
       "1  Albania  1962   92800.0    Europe\n",
       "2  Albania  1963   83500.0    Europe\n",
       "3  Albania  1964   96500.0    Europe\n",
       "4  Albania  1965  109800.0    Europe"
      ]
     },
     "execution_count": 160,
     "metadata": {},
     "output_type": "execute_result"
    }
   ],
   "source": [
    "beehives_raw['Continent'] = beehives_raw.apply(lambda row: countries.loc[row['Area']], axis=1)\n",
    "beehives_raw.head()"
   ]
  },
  {
   "cell_type": "markdown",
   "metadata": {},
   "source": [
    "We can now aggregate the values together for each continent."
   ]
  },
  {
   "cell_type": "code",
   "execution_count": 170,
   "metadata": {},
   "outputs": [
    {
     "data": {
      "text/html": [
       "<div>\n",
       "<style scoped>\n",
       "    .dataframe tbody tr th:only-of-type {\n",
       "        vertical-align: middle;\n",
       "    }\n",
       "\n",
       "    .dataframe tbody tr th {\n",
       "        vertical-align: top;\n",
       "    }\n",
       "\n",
       "    .dataframe thead tr th {\n",
       "        text-align: left;\n",
       "    }\n",
       "\n",
       "    .dataframe thead tr:last-of-type th {\n",
       "        text-align: right;\n",
       "    }\n",
       "</style>\n",
       "<table border=\"1\" class=\"dataframe\">\n",
       "  <thead>\n",
       "    <tr>\n",
       "      <th>Number of beehives</th>\n",
       "      <th colspan=\"5\" halign=\"left\">Value</th>\n",
       "    </tr>\n",
       "    <tr>\n",
       "      <th>Continent</th>\n",
       "      <th>Africa</th>\n",
       "      <th>Americas</th>\n",
       "      <th>Asia</th>\n",
       "      <th>Europe</th>\n",
       "      <th>Oceania</th>\n",
       "    </tr>\n",
       "    <tr>\n",
       "      <th>Year</th>\n",
       "      <th></th>\n",
       "      <th></th>\n",
       "      <th></th>\n",
       "      <th></th>\n",
       "      <th></th>\n",
       "    </tr>\n",
       "  </thead>\n",
       "  <tbody>\n",
       "    <tr>\n",
       "      <td>1961</td>\n",
       "      <td>6845050.0</td>\n",
       "      <td>10019254.0</td>\n",
       "      <td>14060894.0</td>\n",
       "      <td>21097615.0</td>\n",
       "      <td>506660.0</td>\n",
       "    </tr>\n",
       "    <tr>\n",
       "      <td>1962</td>\n",
       "      <td>6986195.0</td>\n",
       "      <td>10038371.0</td>\n",
       "      <td>14361851.0</td>\n",
       "      <td>21182265.0</td>\n",
       "      <td>530345.0</td>\n",
       "    </tr>\n",
       "    <tr>\n",
       "      <td>1963</td>\n",
       "      <td>7291050.0</td>\n",
       "      <td>9388825.0</td>\n",
       "      <td>14559696.0</td>\n",
       "      <td>21758651.0</td>\n",
       "      <td>491061.0</td>\n",
       "    </tr>\n",
       "    <tr>\n",
       "      <td>1964</td>\n",
       "      <td>7365275.0</td>\n",
       "      <td>9261154.0</td>\n",
       "      <td>14963317.0</td>\n",
       "      <td>21159899.0</td>\n",
       "      <td>533889.0</td>\n",
       "    </tr>\n",
       "    <tr>\n",
       "      <td>1965</td>\n",
       "      <td>7822375.0</td>\n",
       "      <td>8221129.0</td>\n",
       "      <td>16588637.0</td>\n",
       "      <td>20966688.0</td>\n",
       "      <td>526280.0</td>\n",
       "    </tr>\n",
       "  </tbody>\n",
       "</table>\n",
       "</div>"
      ],
      "text/plain": [
       "Number of beehives      Value                                              \n",
       "Continent              Africa    Americas        Asia      Europe   Oceania\n",
       "Year                                                                       \n",
       "1961                6845050.0  10019254.0  14060894.0  21097615.0  506660.0\n",
       "1962                6986195.0  10038371.0  14361851.0  21182265.0  530345.0\n",
       "1963                7291050.0   9388825.0  14559696.0  21758651.0  491061.0\n",
       "1964                7365275.0   9261154.0  14963317.0  21159899.0  533889.0\n",
       "1965                7822375.0   8221129.0  16588637.0  20966688.0  526280.0"
      ]
     },
     "execution_count": 170,
     "metadata": {},
     "output_type": "execute_result"
    }
   ],
   "source": [
    "beehives = beehives_raw.drop('Area', 1)\n",
    "beehives = beehives.pivot_table(index=['Year'], columns=['Continent'], aggfunc=np.sum)\n",
    "beehives.columns.names = ['Number of beehives', 'Continent']\n",
    "beehives.head()"
   ]
  },
  {
   "cell_type": "markdown",
   "metadata": {},
   "source": [
    "Let's plot the absolute values to see what is exactly going on."
   ]
  },
  {
   "cell_type": "code",
   "execution_count": 187,
   "metadata": {},
   "outputs": [
    {
     "data": {
      "image/png": "[encoded data removed]",
      "text/plain": [
       "<Figure size 720x720 with 1 Axes>"
      ]
     },
     "metadata": {
      "needs_background": "light"
     },
     "output_type": "display_data"
    }
   ],
   "source": [
    "def plot_beehives(df):\n",
    "    ax = df.plot(kind='line', figsize=(10,10))\n",
    "    ax.set_ylabel('Number of beehives')\n",
    "    return ax\n",
    "    \n",
    "plot_beehives(beehives);"
   ]
  },
  {
   "cell_type": "markdown",
   "metadata": {},
   "source": [
    "We can observe the following:\n",
    "\n",
    "- Asia sees the biggest growth on Earth, surpassing Europe in the 80s.\n",
    "- Europe saw a sharp decline in the 90s, and recovers slowly since the 2010s.\n",
    "- Afica does not see any real change since the beggining of the 2000s\n",
    "- Americas seem to not really evolve in numbers since the beginning.\n",
    "- It's difficult to tell for Oceania.\n",
    "\n",
    "That's all well and good, but the most interesting statistic would be to see the derivate of these values. Let's modify our pivot table."
   ]
  },
  {
   "cell_type": "code",
   "execution_count": 193,
   "metadata": {},
   "outputs": [],
   "source": [
    "beehives_derivative = beehives.diff() / beehives\n",
    "# This obviously creates a NaN value for the first year, let's replace it by 0\n",
    "beehives_derivative = beehives_derivative.fillna(0)"
   ]
  },
  {
   "cell_type": "markdown",
   "metadata": {},
   "source": [
    "Now, let's compute the values for Europe."
   ]
  },
  {
   "cell_type": "code",
   "execution_count": 194,
   "metadata": {},
   "outputs": [
    {
     "data": {
      "image/png": "[encoded data removed]",
      "text/plain": [
       "<Figure size 720x720 with 1 Axes>"
      ]
     },
     "metadata": {
      "needs_background": "light"
     },
     "output_type": "display_data"
    }
   ],
   "source": [
    "beehives_evol_eur = beehives_derivative[('Value','Europe')]\n",
    "ax = plot_beehives(beehives_evol_eur)\n",
    "ax.axhline(y=0.0, color='red', linestyle='--', label='No evolution')\n",
    "ax.set_title('Evolution in the number of beehives in Europe.')\n",
    "plt.legend();"
   ]
  },
  {
   "cell_type": "code",
   "execution_count": 212,
   "metadata": {},
   "outputs": [
    {
     "name": "stdout",
     "output_type": "stream",
     "text": [
      "Europe saw their worst year in total beehives numbers in 1992, where it lost 22.1% of their count.\n"
     ]
    }
   ],
   "source": [
    "decrease = abs(beehives_evol_eur.min()*100)\n",
    "msg = 'Europe saw their worst year in total beehives numbers in %d, where it lost %.1f%% of their count.'\n",
    "print(msg % (beehives_evol_eur.idxmin(), decrease))"
   ]
  },
  {
   "cell_type": "markdown",
   "metadata": {},
   "source": [
    "We can see a very sharp decline in 1992. Let's investigate on where it came from, by looking at the individual countries in Europe."
   ]
  },
  {
   "cell_type": "code",
   "execution_count": 135,
   "metadata": {},
   "outputs": [
    {
     "data": {
      "text/plain": [
       "<matplotlib.axes._subplots.AxesSubplot at 0x7fbf84683fd0>"
      ]
     },
     "execution_count": 135,
     "metadata": {},
     "output_type": "execute_result"
    },
    {
     "data": {
      "image/png": "[encoded data removed]",
      "text/plain": [
       "<Figure size 432x288 with 1 Axes>"
      ]
     },
     "metadata": {
      "needs_background": "light"
     },
     "output_type": "display_data"
    }
   ],
   "source": [
    "beehives[('Value', 'Americas')].plot(kind='line')"
   ]
  },
  {
   "cell_type": "markdown",
   "metadata": {
    "colab_type": "text",
    "id": "GekSAwOv9BPj"
   },
   "source": [
    "## 2. How do changes in honey production relate to number of beehives in Europe and the USA?\n",
    "\n",
    "Robin"
   ]
  },
  {
   "cell_type": "code",
   "execution_count": 0,
   "metadata": {
    "colab": {},
    "colab_type": "code",
    "id": "NM9LyXmT9Dk5"
   },
   "outputs": [],
   "source": []
  },
  {
   "cell_type": "markdown",
   "metadata": {
    "colab_type": "text",
    "id": "eaaPApCF9FJi"
   },
   "source": [
    "## 3. What are the consequences of bee decline on the patterns of honey import/export around the world?\n",
    "\n",
    "Eric"
   ]
  },
  {
   "cell_type": "code",
   "execution_count": 0,
   "metadata": {
    "colab": {},
    "colab_type": "code",
    "id": "xTYUKhBu9HHq"
   },
   "outputs": [],
   "source": []
  },
  {
   "cell_type": "markdown",
   "metadata": {
    "colab_type": "text",
    "id": "DFSaV12D9IWQ"
   },
   "source": [
    "## 4. What is the relation between US cases of Colony Collapse Disorder and the main factors of CCD?\n",
    "\n",
    "Arthur"
   ]
  },
  {
   "cell_type": "code",
   "execution_count": 0,
   "metadata": {
    "colab": {},
    "colab_type": "code",
    "id": "40fcXRKo9KYK"
   },
   "outputs": [],
   "source": []
  },
  {
   "cell_type": "markdown",
   "metadata": {
    "colab_type": "text",
    "id": "OFa-e2Zo9Lbj"
   },
   "source": [
    "## 5. California accounts for 80% of the world almond production, what is the impact of bees on this industry in the 21st century?\n",
    "\n",
    "Tim & Arthur"
   ]
  },
  {
   "cell_type": "code",
   "execution_count": 0,
   "metadata": {
    "colab": {},
    "colab_type": "code",
    "id": "qoIGJGhl9M_Y"
   },
   "outputs": [],
   "source": []
  }
 ],
 "metadata": {
  "colab": {
   "collapsed_sections": [],
   "name": "bees.ipynb",
   "provenance": []
  },
  "kernelspec": {
   "display_name": "Python 3",
   "language": "python",
   "name": "python3"
  },
  "language_info": {
   "codemirror_mode": {
    "name": "ipython",
    "version": 3
   },
   "file_extension": ".py",
   "mimetype": "text/x-python",
   "name": "python",
   "nbconvert_exporter": "python",
   "pygments_lexer": "ipython3",
   "version": "3.7.5"
  }
 },
 "nbformat": 4,
 "nbformat_minor": 1
}
